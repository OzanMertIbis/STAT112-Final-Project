{
  "cells": [
    {
      "cell_type": "code",
      "execution_count": null,
      "metadata": {
        "id": "sM8woG22iHXi"
      },
      "outputs": [],
      "source": [
        "import pandas as pd\n",
        "import numpy as np"
      ]
    },
    {
      "cell_type": "code",
      "execution_count": null,
      "metadata": {
        "colab": {
          "base_uri": "https://localhost:8080/",
          "height": 276
        },
        "id": "mwU2DaXVifik",
        "outputId": "a330ee6e-4456-4752-8883-0e931558ff51"
      },
      "outputs": [
        {
          "output_type": "execute_result",
          "data": {
            "text/plain": [
              "   ID  Age of the customer ??What is the job of the customer??  MARITUL  \\\n",
              "0   1                   45                          management  married   \n",
              "1   2                   31                          technician   single   \n",
              "2   3                   53                         blue-collar  married   \n",
              "3   4                   32                            services   single   \n",
              "4   5                   29                              admin.   single   \n",
              "\n",
              "      EDUCTION default  BALANCE Does the customer have a housing loan ?? loan  \\\n",
              "0    secondary      no     1025                                      yes   no   \n",
              "1     tertiary      no      320                                       no   no   \n",
              "2      primary      no     -120                                       no   no   \n",
              "3  \"secondary\"      no      452                                      yes   no   \n",
              "4    secondary      no     -112                                      yes   no   \n",
              "\n",
              "     contact  //day //month  DURATION CAMPAIGN  pdays  previous poutcome  \\\n",
              "0   cellular     12     may     365.0        2     76         3  success   \n",
              "1   cellular      8     jun     210.0        1     -1         0  unknown   \n",
              "2  telephone     16     nov     185.0        3     92         2  failure   \n",
              "3   cellular     30    July     102.0        4     -1         0  unknown   \n",
              "4   cellular     14     aug     309.0        2     -1         0  unknown   \n",
              "\n",
              "  deposit   income  loan_amount  \n",
              "0     yes  50000.0      10000.0  \n",
              "1      no  35000.0       5000.0  \n",
              "2      no  40000.0       8000.0  \n",
              "3      no  45000.0      12000.0  \n",
              "4     yes  60000.0      15000.0  "
            ],
            "text/html": [
              "\n",
              "  <div id=\"df-24d3c50d-ef06-41f1-8f92-f8d00b1040c8\" class=\"colab-df-container\">\n",
              "    <div>\n",
              "<style scoped>\n",
              "    .dataframe tbody tr th:only-of-type {\n",
              "        vertical-align: middle;\n",
              "    }\n",
              "\n",
              "    .dataframe tbody tr th {\n",
              "        vertical-align: top;\n",
              "    }\n",
              "\n",
              "    .dataframe thead th {\n",
              "        text-align: right;\n",
              "    }\n",
              "</style>\n",
              "<table border=\"1\" class=\"dataframe\">\n",
              "  <thead>\n",
              "    <tr style=\"text-align: right;\">\n",
              "      <th></th>\n",
              "      <th>ID</th>\n",
              "      <th>Age of the customer</th>\n",
              "      <th>??What is the job of the customer??</th>\n",
              "      <th>MARITUL</th>\n",
              "      <th>EDUCTION</th>\n",
              "      <th>default</th>\n",
              "      <th>BALANCE</th>\n",
              "      <th>Does the customer have a housing loan ??</th>\n",
              "      <th>loan</th>\n",
              "      <th>contact</th>\n",
              "      <th>//day</th>\n",
              "      <th>//month</th>\n",
              "      <th>DURATION</th>\n",
              "      <th>CAMPAIGN</th>\n",
              "      <th>pdays</th>\n",
              "      <th>previous</th>\n",
              "      <th>poutcome</th>\n",
              "      <th>deposit</th>\n",
              "      <th>income</th>\n",
              "      <th>loan_amount</th>\n",
              "    </tr>\n",
              "  </thead>\n",
              "  <tbody>\n",
              "    <tr>\n",
              "      <th>0</th>\n",
              "      <td>1</td>\n",
              "      <td>45</td>\n",
              "      <td>management</td>\n",
              "      <td>married</td>\n",
              "      <td>secondary</td>\n",
              "      <td>no</td>\n",
              "      <td>1025</td>\n",
              "      <td>yes</td>\n",
              "      <td>no</td>\n",
              "      <td>cellular</td>\n",
              "      <td>12</td>\n",
              "      <td>may</td>\n",
              "      <td>365.0</td>\n",
              "      <td>2</td>\n",
              "      <td>76</td>\n",
              "      <td>3</td>\n",
              "      <td>success</td>\n",
              "      <td>yes</td>\n",
              "      <td>50000.0</td>\n",
              "      <td>10000.0</td>\n",
              "    </tr>\n",
              "    <tr>\n",
              "      <th>1</th>\n",
              "      <td>2</td>\n",
              "      <td>31</td>\n",
              "      <td>technician</td>\n",
              "      <td>single</td>\n",
              "      <td>tertiary</td>\n",
              "      <td>no</td>\n",
              "      <td>320</td>\n",
              "      <td>no</td>\n",
              "      <td>no</td>\n",
              "      <td>cellular</td>\n",
              "      <td>8</td>\n",
              "      <td>jun</td>\n",
              "      <td>210.0</td>\n",
              "      <td>1</td>\n",
              "      <td>-1</td>\n",
              "      <td>0</td>\n",
              "      <td>unknown</td>\n",
              "      <td>no</td>\n",
              "      <td>35000.0</td>\n",
              "      <td>5000.0</td>\n",
              "    </tr>\n",
              "    <tr>\n",
              "      <th>2</th>\n",
              "      <td>3</td>\n",
              "      <td>53</td>\n",
              "      <td>blue-collar</td>\n",
              "      <td>married</td>\n",
              "      <td>primary</td>\n",
              "      <td>no</td>\n",
              "      <td>-120</td>\n",
              "      <td>no</td>\n",
              "      <td>no</td>\n",
              "      <td>telephone</td>\n",
              "      <td>16</td>\n",
              "      <td>nov</td>\n",
              "      <td>185.0</td>\n",
              "      <td>3</td>\n",
              "      <td>92</td>\n",
              "      <td>2</td>\n",
              "      <td>failure</td>\n",
              "      <td>no</td>\n",
              "      <td>40000.0</td>\n",
              "      <td>8000.0</td>\n",
              "    </tr>\n",
              "    <tr>\n",
              "      <th>3</th>\n",
              "      <td>4</td>\n",
              "      <td>32</td>\n",
              "      <td>services</td>\n",
              "      <td>single</td>\n",
              "      <td>\"secondary\"</td>\n",
              "      <td>no</td>\n",
              "      <td>452</td>\n",
              "      <td>yes</td>\n",
              "      <td>no</td>\n",
              "      <td>cellular</td>\n",
              "      <td>30</td>\n",
              "      <td>July</td>\n",
              "      <td>102.0</td>\n",
              "      <td>4</td>\n",
              "      <td>-1</td>\n",
              "      <td>0</td>\n",
              "      <td>unknown</td>\n",
              "      <td>no</td>\n",
              "      <td>45000.0</td>\n",
              "      <td>12000.0</td>\n",
              "    </tr>\n",
              "    <tr>\n",
              "      <th>4</th>\n",
              "      <td>5</td>\n",
              "      <td>29</td>\n",
              "      <td>admin.</td>\n",
              "      <td>single</td>\n",
              "      <td>secondary</td>\n",
              "      <td>no</td>\n",
              "      <td>-112</td>\n",
              "      <td>yes</td>\n",
              "      <td>no</td>\n",
              "      <td>cellular</td>\n",
              "      <td>14</td>\n",
              "      <td>aug</td>\n",
              "      <td>309.0</td>\n",
              "      <td>2</td>\n",
              "      <td>-1</td>\n",
              "      <td>0</td>\n",
              "      <td>unknown</td>\n",
              "      <td>yes</td>\n",
              "      <td>60000.0</td>\n",
              "      <td>15000.0</td>\n",
              "    </tr>\n",
              "  </tbody>\n",
              "</table>\n",
              "</div>\n",
              "    <div class=\"colab-df-buttons\">\n",
              "\n",
              "  <div class=\"colab-df-container\">\n",
              "    <button class=\"colab-df-convert\" onclick=\"convertToInteractive('df-24d3c50d-ef06-41f1-8f92-f8d00b1040c8')\"\n",
              "            title=\"Convert this dataframe to an interactive table.\"\n",
              "            style=\"display:none;\">\n",
              "\n",
              "  <svg xmlns=\"http://www.w3.org/2000/svg\" height=\"24px\" viewBox=\"0 -960 960 960\">\n",
              "    <path d=\"M120-120v-720h720v720H120Zm60-500h600v-160H180v160Zm220 220h160v-160H400v160Zm0 220h160v-160H400v160ZM180-400h160v-160H180v160Zm440 0h160v-160H620v160ZM180-180h160v-160H180v160Zm440 0h160v-160H620v160Z\"/>\n",
              "  </svg>\n",
              "    </button>\n",
              "\n",
              "  <style>\n",
              "    .colab-df-container {\n",
              "      display:flex;\n",
              "      gap: 12px;\n",
              "    }\n",
              "\n",
              "    .colab-df-convert {\n",
              "      background-color: #E8F0FE;\n",
              "      border: none;\n",
              "      border-radius: 50%;\n",
              "      cursor: pointer;\n",
              "      display: none;\n",
              "      fill: #1967D2;\n",
              "      height: 32px;\n",
              "      padding: 0 0 0 0;\n",
              "      width: 32px;\n",
              "    }\n",
              "\n",
              "    .colab-df-convert:hover {\n",
              "      background-color: #E2EBFA;\n",
              "      box-shadow: 0px 1px 2px rgba(60, 64, 67, 0.3), 0px 1px 3px 1px rgba(60, 64, 67, 0.15);\n",
              "      fill: #174EA6;\n",
              "    }\n",
              "\n",
              "    .colab-df-buttons div {\n",
              "      margin-bottom: 4px;\n",
              "    }\n",
              "\n",
              "    [theme=dark] .colab-df-convert {\n",
              "      background-color: #3B4455;\n",
              "      fill: #D2E3FC;\n",
              "    }\n",
              "\n",
              "    [theme=dark] .colab-df-convert:hover {\n",
              "      background-color: #434B5C;\n",
              "      box-shadow: 0px 1px 3px 1px rgba(0, 0, 0, 0.15);\n",
              "      filter: drop-shadow(0px 1px 2px rgba(0, 0, 0, 0.3));\n",
              "      fill: #FFFFFF;\n",
              "    }\n",
              "  </style>\n",
              "\n",
              "    <script>\n",
              "      const buttonEl =\n",
              "        document.querySelector('#df-24d3c50d-ef06-41f1-8f92-f8d00b1040c8 button.colab-df-convert');\n",
              "      buttonEl.style.display =\n",
              "        google.colab.kernel.accessAllowed ? 'block' : 'none';\n",
              "\n",
              "      async function convertToInteractive(key) {\n",
              "        const element = document.querySelector('#df-24d3c50d-ef06-41f1-8f92-f8d00b1040c8');\n",
              "        const dataTable =\n",
              "          await google.colab.kernel.invokeFunction('convertToInteractive',\n",
              "                                                    [key], {});\n",
              "        if (!dataTable) return;\n",
              "\n",
              "        const docLinkHtml = 'Like what you see? Visit the ' +\n",
              "          '<a target=\"_blank\" href=https://colab.research.google.com/notebooks/data_table.ipynb>data table notebook</a>'\n",
              "          + ' to learn more about interactive tables.';\n",
              "        element.innerHTML = '';\n",
              "        dataTable['output_type'] = 'display_data';\n",
              "        await google.colab.output.renderOutput(dataTable, element);\n",
              "        const docLink = document.createElement('div');\n",
              "        docLink.innerHTML = docLinkHtml;\n",
              "        element.appendChild(docLink);\n",
              "      }\n",
              "    </script>\n",
              "  </div>\n",
              "\n",
              "\n",
              "<div id=\"df-76c67102-671a-4717-8d16-29a935c21157\">\n",
              "  <button class=\"colab-df-quickchart\" onclick=\"quickchart('df-76c67102-671a-4717-8d16-29a935c21157')\"\n",
              "            title=\"Suggest charts\"\n",
              "            style=\"display:none;\">\n",
              "\n",
              "<svg xmlns=\"http://www.w3.org/2000/svg\" height=\"24px\"viewBox=\"0 0 24 24\"\n",
              "     width=\"24px\">\n",
              "    <g>\n",
              "        <path d=\"M19 3H5c-1.1 0-2 .9-2 2v14c0 1.1.9 2 2 2h14c1.1 0 2-.9 2-2V5c0-1.1-.9-2-2-2zM9 17H7v-7h2v7zm4 0h-2V7h2v10zm4 0h-2v-4h2v4z\"/>\n",
              "    </g>\n",
              "</svg>\n",
              "  </button>\n",
              "\n",
              "<style>\n",
              "  .colab-df-quickchart {\n",
              "      --bg-color: #E8F0FE;\n",
              "      --fill-color: #1967D2;\n",
              "      --hover-bg-color: #E2EBFA;\n",
              "      --hover-fill-color: #174EA6;\n",
              "      --disabled-fill-color: #AAA;\n",
              "      --disabled-bg-color: #DDD;\n",
              "  }\n",
              "\n",
              "  [theme=dark] .colab-df-quickchart {\n",
              "      --bg-color: #3B4455;\n",
              "      --fill-color: #D2E3FC;\n",
              "      --hover-bg-color: #434B5C;\n",
              "      --hover-fill-color: #FFFFFF;\n",
              "      --disabled-bg-color: #3B4455;\n",
              "      --disabled-fill-color: #666;\n",
              "  }\n",
              "\n",
              "  .colab-df-quickchart {\n",
              "    background-color: var(--bg-color);\n",
              "    border: none;\n",
              "    border-radius: 50%;\n",
              "    cursor: pointer;\n",
              "    display: none;\n",
              "    fill: var(--fill-color);\n",
              "    height: 32px;\n",
              "    padding: 0;\n",
              "    width: 32px;\n",
              "  }\n",
              "\n",
              "  .colab-df-quickchart:hover {\n",
              "    background-color: var(--hover-bg-color);\n",
              "    box-shadow: 0 1px 2px rgba(60, 64, 67, 0.3), 0 1px 3px 1px rgba(60, 64, 67, 0.15);\n",
              "    fill: var(--button-hover-fill-color);\n",
              "  }\n",
              "\n",
              "  .colab-df-quickchart-complete:disabled,\n",
              "  .colab-df-quickchart-complete:disabled:hover {\n",
              "    background-color: var(--disabled-bg-color);\n",
              "    fill: var(--disabled-fill-color);\n",
              "    box-shadow: none;\n",
              "  }\n",
              "\n",
              "  .colab-df-spinner {\n",
              "    border: 2px solid var(--fill-color);\n",
              "    border-color: transparent;\n",
              "    border-bottom-color: var(--fill-color);\n",
              "    animation:\n",
              "      spin 1s steps(1) infinite;\n",
              "  }\n",
              "\n",
              "  @keyframes spin {\n",
              "    0% {\n",
              "      border-color: transparent;\n",
              "      border-bottom-color: var(--fill-color);\n",
              "      border-left-color: var(--fill-color);\n",
              "    }\n",
              "    20% {\n",
              "      border-color: transparent;\n",
              "      border-left-color: var(--fill-color);\n",
              "      border-top-color: var(--fill-color);\n",
              "    }\n",
              "    30% {\n",
              "      border-color: transparent;\n",
              "      border-left-color: var(--fill-color);\n",
              "      border-top-color: var(--fill-color);\n",
              "      border-right-color: var(--fill-color);\n",
              "    }\n",
              "    40% {\n",
              "      border-color: transparent;\n",
              "      border-right-color: var(--fill-color);\n",
              "      border-top-color: var(--fill-color);\n",
              "    }\n",
              "    60% {\n",
              "      border-color: transparent;\n",
              "      border-right-color: var(--fill-color);\n",
              "    }\n",
              "    80% {\n",
              "      border-color: transparent;\n",
              "      border-right-color: var(--fill-color);\n",
              "      border-bottom-color: var(--fill-color);\n",
              "    }\n",
              "    90% {\n",
              "      border-color: transparent;\n",
              "      border-bottom-color: var(--fill-color);\n",
              "    }\n",
              "  }\n",
              "</style>\n",
              "\n",
              "  <script>\n",
              "    async function quickchart(key) {\n",
              "      const quickchartButtonEl =\n",
              "        document.querySelector('#' + key + ' button');\n",
              "      quickchartButtonEl.disabled = true;  // To prevent multiple clicks.\n",
              "      quickchartButtonEl.classList.add('colab-df-spinner');\n",
              "      try {\n",
              "        const charts = await google.colab.kernel.invokeFunction(\n",
              "            'suggestCharts', [key], {});\n",
              "      } catch (error) {\n",
              "        console.error('Error during call to suggestCharts:', error);\n",
              "      }\n",
              "      quickchartButtonEl.classList.remove('colab-df-spinner');\n",
              "      quickchartButtonEl.classList.add('colab-df-quickchart-complete');\n",
              "    }\n",
              "    (() => {\n",
              "      let quickchartButtonEl =\n",
              "        document.querySelector('#df-76c67102-671a-4717-8d16-29a935c21157 button');\n",
              "      quickchartButtonEl.style.display =\n",
              "        google.colab.kernel.accessAllowed ? 'block' : 'none';\n",
              "    })();\n",
              "  </script>\n",
              "</div>\n",
              "\n",
              "    </div>\n",
              "  </div>\n"
            ]
          },
          "metadata": {},
          "execution_count": 5
        }
      ],
      "source": [
        "df = pd.read_excel(\"Term_Deposit.xlsx\", header=2)# Import the data and turn it into a DataFrame(The header was selected as two due to there is an explanation in the first row, and the columns were printed wrongly).\n",
        "df.head()# Printed the first five rows of the DataFrame to see a concise view of the rows and columns."
      ]
    },
    {
      "cell_type": "code",
      "execution_count": null,
      "metadata": {
        "colab": {
          "base_uri": "https://localhost:8080/"
        },
        "id": "eBOKf1a0hP4C",
        "outputId": "e24ad6a0-bed8-49b1-8a46-a43e3a42ffef"
      },
      "outputs": [
        {
          "output_type": "stream",
          "name": "stdout",
          "text": [
            "<class 'pandas.core.frame.DataFrame'>\n",
            "RangeIndex: 115 entries, 0 to 114\n",
            "Data columns (total 20 columns):\n",
            " #   Column                                    Non-Null Count  Dtype  \n",
            "---  ------                                    --------------  -----  \n",
            " 0   ID                                        115 non-null    int64  \n",
            " 1   Age of the customer                       115 non-null    int64  \n",
            " 2   ??What is the job of the customer??       115 non-null    object \n",
            " 3   MARITUL                                   115 non-null    object \n",
            " 4   EDUCTION                                  115 non-null    object \n",
            " 5   default                                   115 non-null    object \n",
            " 6   BALANCE                                   115 non-null    int64  \n",
            " 7   Does the customer have a housing loan ??  115 non-null    object \n",
            " 8   loan                                      115 non-null    object \n",
            " 9   contact                                   115 non-null    object \n",
            " 10  //day                                     115 non-null    int64  \n",
            " 11  //month                                   115 non-null    object \n",
            " 12  DURATION                                  113 non-null    float64\n",
            " 13  CAMPAIGN                                  115 non-null    object \n",
            " 14  pdays                                     115 non-null    int64  \n",
            " 15  previous                                  115 non-null    int64  \n",
            " 16  poutcome                                  115 non-null    object \n",
            " 17  deposit                                   115 non-null    object \n",
            " 18  income                                    113 non-null    float64\n",
            " 19  loan_amount                               113 non-null    float64\n",
            "dtypes: float64(3), int64(6), object(11)\n",
            "memory usage: 18.1+ KB\n"
          ]
        }
      ],
      "source": [
        "df.info()# Printed the info (such as row counts, column counts, data types etc.) concerning the DataFrame to see if the non-null count and entires match or to see if there is a problem with Datatype."
      ]
    },
    {
      "cell_type": "code",
      "execution_count": null,
      "metadata": {
        "colab": {
          "base_uri": "https://localhost:8080/",
          "height": 276
        },
        "id": "SFDCUfKffAxq",
        "outputId": "db75946e-197a-4a24-a882-9bcbaf1d8fac"
      },
      "outputs": [
        {
          "output_type": "execute_result",
          "data": {
            "text/plain": [
              "      ID  Age of the customer ??What is the job of the customer??   MARITUL  \\\n",
              "110  109                   42                         blue-collar   married   \n",
              "111  110                   51                          technician   married   \n",
              "112  111                   34                         blue-collar   married   \n",
              "113  112                   50                          management  divorced   \n",
              "114  113                   37                          technician   married   \n",
              "\n",
              "      EDUCTION default  BALANCE Does the customer have a housing loan ?? loan  \\\n",
              "110  secondary      no     -139                                      yes   No   \n",
              "111   tertiary      no     1231                                       no   No   \n",
              "112    primary      no      344                                      yes   No   \n",
              "113   tertiary      no      589                                       no   no   \n",
              "114   tertiary      no      155                                      yes   no   \n",
              "\n",
              "      contact  //day //month  DURATION CAMPAIGN  pdays  previous poutcome  \\\n",
              "110  cellular      6     aug     215.0        2     -1         0  unknown   \n",
              "111  cellular     29     jul     114.0        2     -1         0  unknown   \n",
              "112  cellular     14     may     172.0      3,0     -1         0  unknown   \n",
              "113  cellular      6     feb     189.0        2     -1         0  unknown   \n",
              "114  cellular     13     aug     238.0        2     -1         0  unknown   \n",
              "\n",
              "    deposit   income  loan_amount  \n",
              "110     yes  50000.0      10000.0  \n",
              "111     yes  75000.0      17000.0  \n",
              "112      no  40000.0       6000.0  \n",
              "113     yes  90000.0      23000.0  \n",
              "114     yes  60000.0      12000.0  "
            ],
            "text/html": [
              "\n",
              "  <div id=\"df-6d86434f-7120-49ba-8294-019092943981\" class=\"colab-df-container\">\n",
              "    <div>\n",
              "<style scoped>\n",
              "    .dataframe tbody tr th:only-of-type {\n",
              "        vertical-align: middle;\n",
              "    }\n",
              "\n",
              "    .dataframe tbody tr th {\n",
              "        vertical-align: top;\n",
              "    }\n",
              "\n",
              "    .dataframe thead th {\n",
              "        text-align: right;\n",
              "    }\n",
              "</style>\n",
              "<table border=\"1\" class=\"dataframe\">\n",
              "  <thead>\n",
              "    <tr style=\"text-align: right;\">\n",
              "      <th></th>\n",
              "      <th>ID</th>\n",
              "      <th>Age of the customer</th>\n",
              "      <th>??What is the job of the customer??</th>\n",
              "      <th>MARITUL</th>\n",
              "      <th>EDUCTION</th>\n",
              "      <th>default</th>\n",
              "      <th>BALANCE</th>\n",
              "      <th>Does the customer have a housing loan ??</th>\n",
              "      <th>loan</th>\n",
              "      <th>contact</th>\n",
              "      <th>//day</th>\n",
              "      <th>//month</th>\n",
              "      <th>DURATION</th>\n",
              "      <th>CAMPAIGN</th>\n",
              "      <th>pdays</th>\n",
              "      <th>previous</th>\n",
              "      <th>poutcome</th>\n",
              "      <th>deposit</th>\n",
              "      <th>income</th>\n",
              "      <th>loan_amount</th>\n",
              "    </tr>\n",
              "  </thead>\n",
              "  <tbody>\n",
              "    <tr>\n",
              "      <th>110</th>\n",
              "      <td>109</td>\n",
              "      <td>42</td>\n",
              "      <td>blue-collar</td>\n",
              "      <td>married</td>\n",
              "      <td>secondary</td>\n",
              "      <td>no</td>\n",
              "      <td>-139</td>\n",
              "      <td>yes</td>\n",
              "      <td>No</td>\n",
              "      <td>cellular</td>\n",
              "      <td>6</td>\n",
              "      <td>aug</td>\n",
              "      <td>215.0</td>\n",
              "      <td>2</td>\n",
              "      <td>-1</td>\n",
              "      <td>0</td>\n",
              "      <td>unknown</td>\n",
              "      <td>yes</td>\n",
              "      <td>50000.0</td>\n",
              "      <td>10000.0</td>\n",
              "    </tr>\n",
              "    <tr>\n",
              "      <th>111</th>\n",
              "      <td>110</td>\n",
              "      <td>51</td>\n",
              "      <td>technician</td>\n",
              "      <td>married</td>\n",
              "      <td>tertiary</td>\n",
              "      <td>no</td>\n",
              "      <td>1231</td>\n",
              "      <td>no</td>\n",
              "      <td>No</td>\n",
              "      <td>cellular</td>\n",
              "      <td>29</td>\n",
              "      <td>jul</td>\n",
              "      <td>114.0</td>\n",
              "      <td>2</td>\n",
              "      <td>-1</td>\n",
              "      <td>0</td>\n",
              "      <td>unknown</td>\n",
              "      <td>yes</td>\n",
              "      <td>75000.0</td>\n",
              "      <td>17000.0</td>\n",
              "    </tr>\n",
              "    <tr>\n",
              "      <th>112</th>\n",
              "      <td>111</td>\n",
              "      <td>34</td>\n",
              "      <td>blue-collar</td>\n",
              "      <td>married</td>\n",
              "      <td>primary</td>\n",
              "      <td>no</td>\n",
              "      <td>344</td>\n",
              "      <td>yes</td>\n",
              "      <td>No</td>\n",
              "      <td>cellular</td>\n",
              "      <td>14</td>\n",
              "      <td>may</td>\n",
              "      <td>172.0</td>\n",
              "      <td>3,0</td>\n",
              "      <td>-1</td>\n",
              "      <td>0</td>\n",
              "      <td>unknown</td>\n",
              "      <td>no</td>\n",
              "      <td>40000.0</td>\n",
              "      <td>6000.0</td>\n",
              "    </tr>\n",
              "    <tr>\n",
              "      <th>113</th>\n",
              "      <td>112</td>\n",
              "      <td>50</td>\n",
              "      <td>management</td>\n",
              "      <td>divorced</td>\n",
              "      <td>tertiary</td>\n",
              "      <td>no</td>\n",
              "      <td>589</td>\n",
              "      <td>no</td>\n",
              "      <td>no</td>\n",
              "      <td>cellular</td>\n",
              "      <td>6</td>\n",
              "      <td>feb</td>\n",
              "      <td>189.0</td>\n",
              "      <td>2</td>\n",
              "      <td>-1</td>\n",
              "      <td>0</td>\n",
              "      <td>unknown</td>\n",
              "      <td>yes</td>\n",
              "      <td>90000.0</td>\n",
              "      <td>23000.0</td>\n",
              "    </tr>\n",
              "    <tr>\n",
              "      <th>114</th>\n",
              "      <td>113</td>\n",
              "      <td>37</td>\n",
              "      <td>technician</td>\n",
              "      <td>married</td>\n",
              "      <td>tertiary</td>\n",
              "      <td>no</td>\n",
              "      <td>155</td>\n",
              "      <td>yes</td>\n",
              "      <td>no</td>\n",
              "      <td>cellular</td>\n",
              "      <td>13</td>\n",
              "      <td>aug</td>\n",
              "      <td>238.0</td>\n",
              "      <td>2</td>\n",
              "      <td>-1</td>\n",
              "      <td>0</td>\n",
              "      <td>unknown</td>\n",
              "      <td>yes</td>\n",
              "      <td>60000.0</td>\n",
              "      <td>12000.0</td>\n",
              "    </tr>\n",
              "  </tbody>\n",
              "</table>\n",
              "</div>\n",
              "    <div class=\"colab-df-buttons\">\n",
              "\n",
              "  <div class=\"colab-df-container\">\n",
              "    <button class=\"colab-df-convert\" onclick=\"convertToInteractive('df-6d86434f-7120-49ba-8294-019092943981')\"\n",
              "            title=\"Convert this dataframe to an interactive table.\"\n",
              "            style=\"display:none;\">\n",
              "\n",
              "  <svg xmlns=\"http://www.w3.org/2000/svg\" height=\"24px\" viewBox=\"0 -960 960 960\">\n",
              "    <path d=\"M120-120v-720h720v720H120Zm60-500h600v-160H180v160Zm220 220h160v-160H400v160Zm0 220h160v-160H400v160ZM180-400h160v-160H180v160Zm440 0h160v-160H620v160ZM180-180h160v-160H180v160Zm440 0h160v-160H620v160Z\"/>\n",
              "  </svg>\n",
              "    </button>\n",
              "\n",
              "  <style>\n",
              "    .colab-df-container {\n",
              "      display:flex;\n",
              "      gap: 12px;\n",
              "    }\n",
              "\n",
              "    .colab-df-convert {\n",
              "      background-color: #E8F0FE;\n",
              "      border: none;\n",
              "      border-radius: 50%;\n",
              "      cursor: pointer;\n",
              "      display: none;\n",
              "      fill: #1967D2;\n",
              "      height: 32px;\n",
              "      padding: 0 0 0 0;\n",
              "      width: 32px;\n",
              "    }\n",
              "\n",
              "    .colab-df-convert:hover {\n",
              "      background-color: #E2EBFA;\n",
              "      box-shadow: 0px 1px 2px rgba(60, 64, 67, 0.3), 0px 1px 3px 1px rgba(60, 64, 67, 0.15);\n",
              "      fill: #174EA6;\n",
              "    }\n",
              "\n",
              "    .colab-df-buttons div {\n",
              "      margin-bottom: 4px;\n",
              "    }\n",
              "\n",
              "    [theme=dark] .colab-df-convert {\n",
              "      background-color: #3B4455;\n",
              "      fill: #D2E3FC;\n",
              "    }\n",
              "\n",
              "    [theme=dark] .colab-df-convert:hover {\n",
              "      background-color: #434B5C;\n",
              "      box-shadow: 0px 1px 3px 1px rgba(0, 0, 0, 0.15);\n",
              "      filter: drop-shadow(0px 1px 2px rgba(0, 0, 0, 0.3));\n",
              "      fill: #FFFFFF;\n",
              "    }\n",
              "  </style>\n",
              "\n",
              "    <script>\n",
              "      const buttonEl =\n",
              "        document.querySelector('#df-6d86434f-7120-49ba-8294-019092943981 button.colab-df-convert');\n",
              "      buttonEl.style.display =\n",
              "        google.colab.kernel.accessAllowed ? 'block' : 'none';\n",
              "\n",
              "      async function convertToInteractive(key) {\n",
              "        const element = document.querySelector('#df-6d86434f-7120-49ba-8294-019092943981');\n",
              "        const dataTable =\n",
              "          await google.colab.kernel.invokeFunction('convertToInteractive',\n",
              "                                                    [key], {});\n",
              "        if (!dataTable) return;\n",
              "\n",
              "        const docLinkHtml = 'Like what you see? Visit the ' +\n",
              "          '<a target=\"_blank\" href=https://colab.research.google.com/notebooks/data_table.ipynb>data table notebook</a>'\n",
              "          + ' to learn more about interactive tables.';\n",
              "        element.innerHTML = '';\n",
              "        dataTable['output_type'] = 'display_data';\n",
              "        await google.colab.output.renderOutput(dataTable, element);\n",
              "        const docLink = document.createElement('div');\n",
              "        docLink.innerHTML = docLinkHtml;\n",
              "        element.appendChild(docLink);\n",
              "      }\n",
              "    </script>\n",
              "  </div>\n",
              "\n",
              "\n",
              "<div id=\"df-50e41062-cb14-40b3-8a00-542422a0c2e0\">\n",
              "  <button class=\"colab-df-quickchart\" onclick=\"quickchart('df-50e41062-cb14-40b3-8a00-542422a0c2e0')\"\n",
              "            title=\"Suggest charts\"\n",
              "            style=\"display:none;\">\n",
              "\n",
              "<svg xmlns=\"http://www.w3.org/2000/svg\" height=\"24px\"viewBox=\"0 0 24 24\"\n",
              "     width=\"24px\">\n",
              "    <g>\n",
              "        <path d=\"M19 3H5c-1.1 0-2 .9-2 2v14c0 1.1.9 2 2 2h14c1.1 0 2-.9 2-2V5c0-1.1-.9-2-2-2zM9 17H7v-7h2v7zm4 0h-2V7h2v10zm4 0h-2v-4h2v4z\"/>\n",
              "    </g>\n",
              "</svg>\n",
              "  </button>\n",
              "\n",
              "<style>\n",
              "  .colab-df-quickchart {\n",
              "      --bg-color: #E8F0FE;\n",
              "      --fill-color: #1967D2;\n",
              "      --hover-bg-color: #E2EBFA;\n",
              "      --hover-fill-color: #174EA6;\n",
              "      --disabled-fill-color: #AAA;\n",
              "      --disabled-bg-color: #DDD;\n",
              "  }\n",
              "\n",
              "  [theme=dark] .colab-df-quickchart {\n",
              "      --bg-color: #3B4455;\n",
              "      --fill-color: #D2E3FC;\n",
              "      --hover-bg-color: #434B5C;\n",
              "      --hover-fill-color: #FFFFFF;\n",
              "      --disabled-bg-color: #3B4455;\n",
              "      --disabled-fill-color: #666;\n",
              "  }\n",
              "\n",
              "  .colab-df-quickchart {\n",
              "    background-color: var(--bg-color);\n",
              "    border: none;\n",
              "    border-radius: 50%;\n",
              "    cursor: pointer;\n",
              "    display: none;\n",
              "    fill: var(--fill-color);\n",
              "    height: 32px;\n",
              "    padding: 0;\n",
              "    width: 32px;\n",
              "  }\n",
              "\n",
              "  .colab-df-quickchart:hover {\n",
              "    background-color: var(--hover-bg-color);\n",
              "    box-shadow: 0 1px 2px rgba(60, 64, 67, 0.3), 0 1px 3px 1px rgba(60, 64, 67, 0.15);\n",
              "    fill: var(--button-hover-fill-color);\n",
              "  }\n",
              "\n",
              "  .colab-df-quickchart-complete:disabled,\n",
              "  .colab-df-quickchart-complete:disabled:hover {\n",
              "    background-color: var(--disabled-bg-color);\n",
              "    fill: var(--disabled-fill-color);\n",
              "    box-shadow: none;\n",
              "  }\n",
              "\n",
              "  .colab-df-spinner {\n",
              "    border: 2px solid var(--fill-color);\n",
              "    border-color: transparent;\n",
              "    border-bottom-color: var(--fill-color);\n",
              "    animation:\n",
              "      spin 1s steps(1) infinite;\n",
              "  }\n",
              "\n",
              "  @keyframes spin {\n",
              "    0% {\n",
              "      border-color: transparent;\n",
              "      border-bottom-color: var(--fill-color);\n",
              "      border-left-color: var(--fill-color);\n",
              "    }\n",
              "    20% {\n",
              "      border-color: transparent;\n",
              "      border-left-color: var(--fill-color);\n",
              "      border-top-color: var(--fill-color);\n",
              "    }\n",
              "    30% {\n",
              "      border-color: transparent;\n",
              "      border-left-color: var(--fill-color);\n",
              "      border-top-color: var(--fill-color);\n",
              "      border-right-color: var(--fill-color);\n",
              "    }\n",
              "    40% {\n",
              "      border-color: transparent;\n",
              "      border-right-color: var(--fill-color);\n",
              "      border-top-color: var(--fill-color);\n",
              "    }\n",
              "    60% {\n",
              "      border-color: transparent;\n",
              "      border-right-color: var(--fill-color);\n",
              "    }\n",
              "    80% {\n",
              "      border-color: transparent;\n",
              "      border-right-color: var(--fill-color);\n",
              "      border-bottom-color: var(--fill-color);\n",
              "    }\n",
              "    90% {\n",
              "      border-color: transparent;\n",
              "      border-bottom-color: var(--fill-color);\n",
              "    }\n",
              "  }\n",
              "</style>\n",
              "\n",
              "  <script>\n",
              "    async function quickchart(key) {\n",
              "      const quickchartButtonEl =\n",
              "        document.querySelector('#' + key + ' button');\n",
              "      quickchartButtonEl.disabled = true;  // To prevent multiple clicks.\n",
              "      quickchartButtonEl.classList.add('colab-df-spinner');\n",
              "      try {\n",
              "        const charts = await google.colab.kernel.invokeFunction(\n",
              "            'suggestCharts', [key], {});\n",
              "      } catch (error) {\n",
              "        console.error('Error during call to suggestCharts:', error);\n",
              "      }\n",
              "      quickchartButtonEl.classList.remove('colab-df-spinner');\n",
              "      quickchartButtonEl.classList.add('colab-df-quickchart-complete');\n",
              "    }\n",
              "    (() => {\n",
              "      let quickchartButtonEl =\n",
              "        document.querySelector('#df-50e41062-cb14-40b3-8a00-542422a0c2e0 button');\n",
              "      quickchartButtonEl.style.display =\n",
              "        google.colab.kernel.accessAllowed ? 'block' : 'none';\n",
              "    })();\n",
              "  </script>\n",
              "</div>\n",
              "\n",
              "    </div>\n",
              "  </div>\n"
            ]
          },
          "metadata": {},
          "execution_count": 7
        }
      ],
      "source": [
        "df.tail()#printed so we can get further insight into our data frame."
      ]
    },
    {
      "cell_type": "code",
      "execution_count": null,
      "metadata": {
        "id": "iKijovzseKXI"
      },
      "outputs": [],
      "source": [
        "df = df.drop_duplicates(keep='first')#To delete the duplicates which have the same ID number."
      ]
    },
    {
      "cell_type": "code",
      "execution_count": null,
      "metadata": {
        "id": "tEEifMeGiqOO"
      },
      "outputs": [],
      "source": [
        "df = df.set_index(\"ID\")#In our data, ID is used as an index, so we do not need another index; therefore, we change the index to ID."
      ]
    },
    {
      "cell_type": "code",
      "execution_count": null,
      "metadata": {
        "colab": {
          "base_uri": "https://localhost:8080/",
          "height": 307
        },
        "id": "XoViO437irzm",
        "outputId": "b47bdd30-a970-43d8-e114-ff936010495f"
      },
      "outputs": [
        {
          "output_type": "execute_result",
          "data": {
            "text/plain": [
              "    Age of the customer ??What is the job of the customer??  MARITUL  \\\n",
              "ID                                                                     \n",
              "1                    45                          management  married   \n",
              "2                    31                          technician   single   \n",
              "3                    53                         blue-collar  married   \n",
              "4                    32                            services   single   \n",
              "5                    29                              admin.   single   \n",
              "\n",
              "       EDUCTION default  BALANCE Does the customer have a housing loan ??  \\\n",
              "ID                                                                          \n",
              "1     secondary      no     1025                                      yes   \n",
              "2      tertiary      no      320                                       no   \n",
              "3       primary      no     -120                                       no   \n",
              "4   \"secondary\"      no      452                                      yes   \n",
              "5     secondary      no     -112                                      yes   \n",
              "\n",
              "   loan    contact  //day //month  DURATION CAMPAIGN  pdays  previous  \\\n",
              "ID                                                                      \n",
              "1    no   cellular     12     may     365.0        2     76         3   \n",
              "2    no   cellular      8     jun     210.0        1     -1         0   \n",
              "3    no  telephone     16     nov     185.0        3     92         2   \n",
              "4    no   cellular     30    July     102.0        4     -1         0   \n",
              "5    no   cellular     14     aug     309.0        2     -1         0   \n",
              "\n",
              "   poutcome deposit   income  loan_amount  \n",
              "ID                                         \n",
              "1   success     yes  50000.0      10000.0  \n",
              "2   unknown      no  35000.0       5000.0  \n",
              "3   failure      no  40000.0       8000.0  \n",
              "4   unknown      no  45000.0      12000.0  \n",
              "5   unknown     yes  60000.0      15000.0  "
            ],
            "text/html": [
              "\n",
              "  <div id=\"df-8323cb5a-4527-4a5d-9c89-9816fe8ba375\" class=\"colab-df-container\">\n",
              "    <div>\n",
              "<style scoped>\n",
              "    .dataframe tbody tr th:only-of-type {\n",
              "        vertical-align: middle;\n",
              "    }\n",
              "\n",
              "    .dataframe tbody tr th {\n",
              "        vertical-align: top;\n",
              "    }\n",
              "\n",
              "    .dataframe thead th {\n",
              "        text-align: right;\n",
              "    }\n",
              "</style>\n",
              "<table border=\"1\" class=\"dataframe\">\n",
              "  <thead>\n",
              "    <tr style=\"text-align: right;\">\n",
              "      <th></th>\n",
              "      <th>Age of the customer</th>\n",
              "      <th>??What is the job of the customer??</th>\n",
              "      <th>MARITUL</th>\n",
              "      <th>EDUCTION</th>\n",
              "      <th>default</th>\n",
              "      <th>BALANCE</th>\n",
              "      <th>Does the customer have a housing loan ??</th>\n",
              "      <th>loan</th>\n",
              "      <th>contact</th>\n",
              "      <th>//day</th>\n",
              "      <th>//month</th>\n",
              "      <th>DURATION</th>\n",
              "      <th>CAMPAIGN</th>\n",
              "      <th>pdays</th>\n",
              "      <th>previous</th>\n",
              "      <th>poutcome</th>\n",
              "      <th>deposit</th>\n",
              "      <th>income</th>\n",
              "      <th>loan_amount</th>\n",
              "    </tr>\n",
              "    <tr>\n",
              "      <th>ID</th>\n",
              "      <th></th>\n",
              "      <th></th>\n",
              "      <th></th>\n",
              "      <th></th>\n",
              "      <th></th>\n",
              "      <th></th>\n",
              "      <th></th>\n",
              "      <th></th>\n",
              "      <th></th>\n",
              "      <th></th>\n",
              "      <th></th>\n",
              "      <th></th>\n",
              "      <th></th>\n",
              "      <th></th>\n",
              "      <th></th>\n",
              "      <th></th>\n",
              "      <th></th>\n",
              "      <th></th>\n",
              "      <th></th>\n",
              "    </tr>\n",
              "  </thead>\n",
              "  <tbody>\n",
              "    <tr>\n",
              "      <th>1</th>\n",
              "      <td>45</td>\n",
              "      <td>management</td>\n",
              "      <td>married</td>\n",
              "      <td>secondary</td>\n",
              "      <td>no</td>\n",
              "      <td>1025</td>\n",
              "      <td>yes</td>\n",
              "      <td>no</td>\n",
              "      <td>cellular</td>\n",
              "      <td>12</td>\n",
              "      <td>may</td>\n",
              "      <td>365.0</td>\n",
              "      <td>2</td>\n",
              "      <td>76</td>\n",
              "      <td>3</td>\n",
              "      <td>success</td>\n",
              "      <td>yes</td>\n",
              "      <td>50000.0</td>\n",
              "      <td>10000.0</td>\n",
              "    </tr>\n",
              "    <tr>\n",
              "      <th>2</th>\n",
              "      <td>31</td>\n",
              "      <td>technician</td>\n",
              "      <td>single</td>\n",
              "      <td>tertiary</td>\n",
              "      <td>no</td>\n",
              "      <td>320</td>\n",
              "      <td>no</td>\n",
              "      <td>no</td>\n",
              "      <td>cellular</td>\n",
              "      <td>8</td>\n",
              "      <td>jun</td>\n",
              "      <td>210.0</td>\n",
              "      <td>1</td>\n",
              "      <td>-1</td>\n",
              "      <td>0</td>\n",
              "      <td>unknown</td>\n",
              "      <td>no</td>\n",
              "      <td>35000.0</td>\n",
              "      <td>5000.0</td>\n",
              "    </tr>\n",
              "    <tr>\n",
              "      <th>3</th>\n",
              "      <td>53</td>\n",
              "      <td>blue-collar</td>\n",
              "      <td>married</td>\n",
              "      <td>primary</td>\n",
              "      <td>no</td>\n",
              "      <td>-120</td>\n",
              "      <td>no</td>\n",
              "      <td>no</td>\n",
              "      <td>telephone</td>\n",
              "      <td>16</td>\n",
              "      <td>nov</td>\n",
              "      <td>185.0</td>\n",
              "      <td>3</td>\n",
              "      <td>92</td>\n",
              "      <td>2</td>\n",
              "      <td>failure</td>\n",
              "      <td>no</td>\n",
              "      <td>40000.0</td>\n",
              "      <td>8000.0</td>\n",
              "    </tr>\n",
              "    <tr>\n",
              "      <th>4</th>\n",
              "      <td>32</td>\n",
              "      <td>services</td>\n",
              "      <td>single</td>\n",
              "      <td>\"secondary\"</td>\n",
              "      <td>no</td>\n",
              "      <td>452</td>\n",
              "      <td>yes</td>\n",
              "      <td>no</td>\n",
              "      <td>cellular</td>\n",
              "      <td>30</td>\n",
              "      <td>July</td>\n",
              "      <td>102.0</td>\n",
              "      <td>4</td>\n",
              "      <td>-1</td>\n",
              "      <td>0</td>\n",
              "      <td>unknown</td>\n",
              "      <td>no</td>\n",
              "      <td>45000.0</td>\n",
              "      <td>12000.0</td>\n",
              "    </tr>\n",
              "    <tr>\n",
              "      <th>5</th>\n",
              "      <td>29</td>\n",
              "      <td>admin.</td>\n",
              "      <td>single</td>\n",
              "      <td>secondary</td>\n",
              "      <td>no</td>\n",
              "      <td>-112</td>\n",
              "      <td>yes</td>\n",
              "      <td>no</td>\n",
              "      <td>cellular</td>\n",
              "      <td>14</td>\n",
              "      <td>aug</td>\n",
              "      <td>309.0</td>\n",
              "      <td>2</td>\n",
              "      <td>-1</td>\n",
              "      <td>0</td>\n",
              "      <td>unknown</td>\n",
              "      <td>yes</td>\n",
              "      <td>60000.0</td>\n",
              "      <td>15000.0</td>\n",
              "    </tr>\n",
              "  </tbody>\n",
              "</table>\n",
              "</div>\n",
              "    <div class=\"colab-df-buttons\">\n",
              "\n",
              "  <div class=\"colab-df-container\">\n",
              "    <button class=\"colab-df-convert\" onclick=\"convertToInteractive('df-8323cb5a-4527-4a5d-9c89-9816fe8ba375')\"\n",
              "            title=\"Convert this dataframe to an interactive table.\"\n",
              "            style=\"display:none;\">\n",
              "\n",
              "  <svg xmlns=\"http://www.w3.org/2000/svg\" height=\"24px\" viewBox=\"0 -960 960 960\">\n",
              "    <path d=\"M120-120v-720h720v720H120Zm60-500h600v-160H180v160Zm220 220h160v-160H400v160Zm0 220h160v-160H400v160ZM180-400h160v-160H180v160Zm440 0h160v-160H620v160ZM180-180h160v-160H180v160Zm440 0h160v-160H620v160Z\"/>\n",
              "  </svg>\n",
              "    </button>\n",
              "\n",
              "  <style>\n",
              "    .colab-df-container {\n",
              "      display:flex;\n",
              "      gap: 12px;\n",
              "    }\n",
              "\n",
              "    .colab-df-convert {\n",
              "      background-color: #E8F0FE;\n",
              "      border: none;\n",
              "      border-radius: 50%;\n",
              "      cursor: pointer;\n",
              "      display: none;\n",
              "      fill: #1967D2;\n",
              "      height: 32px;\n",
              "      padding: 0 0 0 0;\n",
              "      width: 32px;\n",
              "    }\n",
              "\n",
              "    .colab-df-convert:hover {\n",
              "      background-color: #E2EBFA;\n",
              "      box-shadow: 0px 1px 2px rgba(60, 64, 67, 0.3), 0px 1px 3px 1px rgba(60, 64, 67, 0.15);\n",
              "      fill: #174EA6;\n",
              "    }\n",
              "\n",
              "    .colab-df-buttons div {\n",
              "      margin-bottom: 4px;\n",
              "    }\n",
              "\n",
              "    [theme=dark] .colab-df-convert {\n",
              "      background-color: #3B4455;\n",
              "      fill: #D2E3FC;\n",
              "    }\n",
              "\n",
              "    [theme=dark] .colab-df-convert:hover {\n",
              "      background-color: #434B5C;\n",
              "      box-shadow: 0px 1px 3px 1px rgba(0, 0, 0, 0.15);\n",
              "      filter: drop-shadow(0px 1px 2px rgba(0, 0, 0, 0.3));\n",
              "      fill: #FFFFFF;\n",
              "    }\n",
              "  </style>\n",
              "\n",
              "    <script>\n",
              "      const buttonEl =\n",
              "        document.querySelector('#df-8323cb5a-4527-4a5d-9c89-9816fe8ba375 button.colab-df-convert');\n",
              "      buttonEl.style.display =\n",
              "        google.colab.kernel.accessAllowed ? 'block' : 'none';\n",
              "\n",
              "      async function convertToInteractive(key) {\n",
              "        const element = document.querySelector('#df-8323cb5a-4527-4a5d-9c89-9816fe8ba375');\n",
              "        const dataTable =\n",
              "          await google.colab.kernel.invokeFunction('convertToInteractive',\n",
              "                                                    [key], {});\n",
              "        if (!dataTable) return;\n",
              "\n",
              "        const docLinkHtml = 'Like what you see? Visit the ' +\n",
              "          '<a target=\"_blank\" href=https://colab.research.google.com/notebooks/data_table.ipynb>data table notebook</a>'\n",
              "          + ' to learn more about interactive tables.';\n",
              "        element.innerHTML = '';\n",
              "        dataTable['output_type'] = 'display_data';\n",
              "        await google.colab.output.renderOutput(dataTable, element);\n",
              "        const docLink = document.createElement('div');\n",
              "        docLink.innerHTML = docLinkHtml;\n",
              "        element.appendChild(docLink);\n",
              "      }\n",
              "    </script>\n",
              "  </div>\n",
              "\n",
              "\n",
              "<div id=\"df-d1b4a03a-75b4-48f0-a94d-565e9d849ae8\">\n",
              "  <button class=\"colab-df-quickchart\" onclick=\"quickchart('df-d1b4a03a-75b4-48f0-a94d-565e9d849ae8')\"\n",
              "            title=\"Suggest charts\"\n",
              "            style=\"display:none;\">\n",
              "\n",
              "<svg xmlns=\"http://www.w3.org/2000/svg\" height=\"24px\"viewBox=\"0 0 24 24\"\n",
              "     width=\"24px\">\n",
              "    <g>\n",
              "        <path d=\"M19 3H5c-1.1 0-2 .9-2 2v14c0 1.1.9 2 2 2h14c1.1 0 2-.9 2-2V5c0-1.1-.9-2-2-2zM9 17H7v-7h2v7zm4 0h-2V7h2v10zm4 0h-2v-4h2v4z\"/>\n",
              "    </g>\n",
              "</svg>\n",
              "  </button>\n",
              "\n",
              "<style>\n",
              "  .colab-df-quickchart {\n",
              "      --bg-color: #E8F0FE;\n",
              "      --fill-color: #1967D2;\n",
              "      --hover-bg-color: #E2EBFA;\n",
              "      --hover-fill-color: #174EA6;\n",
              "      --disabled-fill-color: #AAA;\n",
              "      --disabled-bg-color: #DDD;\n",
              "  }\n",
              "\n",
              "  [theme=dark] .colab-df-quickchart {\n",
              "      --bg-color: #3B4455;\n",
              "      --fill-color: #D2E3FC;\n",
              "      --hover-bg-color: #434B5C;\n",
              "      --hover-fill-color: #FFFFFF;\n",
              "      --disabled-bg-color: #3B4455;\n",
              "      --disabled-fill-color: #666;\n",
              "  }\n",
              "\n",
              "  .colab-df-quickchart {\n",
              "    background-color: var(--bg-color);\n",
              "    border: none;\n",
              "    border-radius: 50%;\n",
              "    cursor: pointer;\n",
              "    display: none;\n",
              "    fill: var(--fill-color);\n",
              "    height: 32px;\n",
              "    padding: 0;\n",
              "    width: 32px;\n",
              "  }\n",
              "\n",
              "  .colab-df-quickchart:hover {\n",
              "    background-color: var(--hover-bg-color);\n",
              "    box-shadow: 0 1px 2px rgba(60, 64, 67, 0.3), 0 1px 3px 1px rgba(60, 64, 67, 0.15);\n",
              "    fill: var(--button-hover-fill-color);\n",
              "  }\n",
              "\n",
              "  .colab-df-quickchart-complete:disabled,\n",
              "  .colab-df-quickchart-complete:disabled:hover {\n",
              "    background-color: var(--disabled-bg-color);\n",
              "    fill: var(--disabled-fill-color);\n",
              "    box-shadow: none;\n",
              "  }\n",
              "\n",
              "  .colab-df-spinner {\n",
              "    border: 2px solid var(--fill-color);\n",
              "    border-color: transparent;\n",
              "    border-bottom-color: var(--fill-color);\n",
              "    animation:\n",
              "      spin 1s steps(1) infinite;\n",
              "  }\n",
              "\n",
              "  @keyframes spin {\n",
              "    0% {\n",
              "      border-color: transparent;\n",
              "      border-bottom-color: var(--fill-color);\n",
              "      border-left-color: var(--fill-color);\n",
              "    }\n",
              "    20% {\n",
              "      border-color: transparent;\n",
              "      border-left-color: var(--fill-color);\n",
              "      border-top-color: var(--fill-color);\n",
              "    }\n",
              "    30% {\n",
              "      border-color: transparent;\n",
              "      border-left-color: var(--fill-color);\n",
              "      border-top-color: var(--fill-color);\n",
              "      border-right-color: var(--fill-color);\n",
              "    }\n",
              "    40% {\n",
              "      border-color: transparent;\n",
              "      border-right-color: var(--fill-color);\n",
              "      border-top-color: var(--fill-color);\n",
              "    }\n",
              "    60% {\n",
              "      border-color: transparent;\n",
              "      border-right-color: var(--fill-color);\n",
              "    }\n",
              "    80% {\n",
              "      border-color: transparent;\n",
              "      border-right-color: var(--fill-color);\n",
              "      border-bottom-color: var(--fill-color);\n",
              "    }\n",
              "    90% {\n",
              "      border-color: transparent;\n",
              "      border-bottom-color: var(--fill-color);\n",
              "    }\n",
              "  }\n",
              "</style>\n",
              "\n",
              "  <script>\n",
              "    async function quickchart(key) {\n",
              "      const quickchartButtonEl =\n",
              "        document.querySelector('#' + key + ' button');\n",
              "      quickchartButtonEl.disabled = true;  // To prevent multiple clicks.\n",
              "      quickchartButtonEl.classList.add('colab-df-spinner');\n",
              "      try {\n",
              "        const charts = await google.colab.kernel.invokeFunction(\n",
              "            'suggestCharts', [key], {});\n",
              "      } catch (error) {\n",
              "        console.error('Error during call to suggestCharts:', error);\n",
              "      }\n",
              "      quickchartButtonEl.classList.remove('colab-df-spinner');\n",
              "      quickchartButtonEl.classList.add('colab-df-quickchart-complete');\n",
              "    }\n",
              "    (() => {\n",
              "      let quickchartButtonEl =\n",
              "        document.querySelector('#df-d1b4a03a-75b4-48f0-a94d-565e9d849ae8 button');\n",
              "      quickchartButtonEl.style.display =\n",
              "        google.colab.kernel.accessAllowed ? 'block' : 'none';\n",
              "    })();\n",
              "  </script>\n",
              "</div>\n",
              "\n",
              "    </div>\n",
              "  </div>\n"
            ]
          },
          "metadata": {},
          "execution_count": 10
        }
      ],
      "source": [
        "df.head()#To see whether ID became the index or not."
      ]
    },
    {
      "cell_type": "code",
      "execution_count": null,
      "metadata": {
        "colab": {
          "base_uri": "https://localhost:8080/",
          "height": 213
        },
        "id": "NGxRdCeDl8hd",
        "outputId": "5f2d872b-a365-4260-d3c8-807c7bea24c6"
      },
      "outputs": [
        {
          "output_type": "execute_result",
          "data": {
            "text/plain": [
              "    Age of the customer ??What is the job of the customer??   MARITUL  \\\n",
              "ID                                                                      \n",
              "6                   -36                          unemployed   married   \n",
              "44                  -38                          management  divorced   \n",
              "\n",
              "    EDUCTION default  BALANCE Does the customer have a housing loan ?? loan  \\\n",
              "ID                                                                            \n",
              "6   tertiary      no      882                                      yes   no   \n",
              "44  tertiary      no      511                                      yes   no   \n",
              "\n",
              "     contact  //day //month  DURATION CAMPAIGN  pdays  previous poutcome  \\\n",
              "ID                                                                         \n",
              "6   cellular      6     feb     173.0        2     -1         0  unknown   \n",
              "44  cellular     28     aug     102.0        2     -1         0  unknown   \n",
              "\n",
              "   deposit   income  loan_amount  \n",
              "ID                                \n",
              "6       no  55000.0       9000.0  \n",
              "44     yes  75000.0      18000.0  "
            ],
            "text/html": [
              "\n",
              "  <div id=\"df-2096bd72-bd7f-448f-9f08-70efcc5ea726\" class=\"colab-df-container\">\n",
              "    <div>\n",
              "<style scoped>\n",
              "    .dataframe tbody tr th:only-of-type {\n",
              "        vertical-align: middle;\n",
              "    }\n",
              "\n",
              "    .dataframe tbody tr th {\n",
              "        vertical-align: top;\n",
              "    }\n",
              "\n",
              "    .dataframe thead th {\n",
              "        text-align: right;\n",
              "    }\n",
              "</style>\n",
              "<table border=\"1\" class=\"dataframe\">\n",
              "  <thead>\n",
              "    <tr style=\"text-align: right;\">\n",
              "      <th></th>\n",
              "      <th>Age of the customer</th>\n",
              "      <th>??What is the job of the customer??</th>\n",
              "      <th>MARITUL</th>\n",
              "      <th>EDUCTION</th>\n",
              "      <th>default</th>\n",
              "      <th>BALANCE</th>\n",
              "      <th>Does the customer have a housing loan ??</th>\n",
              "      <th>loan</th>\n",
              "      <th>contact</th>\n",
              "      <th>//day</th>\n",
              "      <th>//month</th>\n",
              "      <th>DURATION</th>\n",
              "      <th>CAMPAIGN</th>\n",
              "      <th>pdays</th>\n",
              "      <th>previous</th>\n",
              "      <th>poutcome</th>\n",
              "      <th>deposit</th>\n",
              "      <th>income</th>\n",
              "      <th>loan_amount</th>\n",
              "    </tr>\n",
              "    <tr>\n",
              "      <th>ID</th>\n",
              "      <th></th>\n",
              "      <th></th>\n",
              "      <th></th>\n",
              "      <th></th>\n",
              "      <th></th>\n",
              "      <th></th>\n",
              "      <th></th>\n",
              "      <th></th>\n",
              "      <th></th>\n",
              "      <th></th>\n",
              "      <th></th>\n",
              "      <th></th>\n",
              "      <th></th>\n",
              "      <th></th>\n",
              "      <th></th>\n",
              "      <th></th>\n",
              "      <th></th>\n",
              "      <th></th>\n",
              "      <th></th>\n",
              "    </tr>\n",
              "  </thead>\n",
              "  <tbody>\n",
              "    <tr>\n",
              "      <th>6</th>\n",
              "      <td>-36</td>\n",
              "      <td>unemployed</td>\n",
              "      <td>married</td>\n",
              "      <td>tertiary</td>\n",
              "      <td>no</td>\n",
              "      <td>882</td>\n",
              "      <td>yes</td>\n",
              "      <td>no</td>\n",
              "      <td>cellular</td>\n",
              "      <td>6</td>\n",
              "      <td>feb</td>\n",
              "      <td>173.0</td>\n",
              "      <td>2</td>\n",
              "      <td>-1</td>\n",
              "      <td>0</td>\n",
              "      <td>unknown</td>\n",
              "      <td>no</td>\n",
              "      <td>55000.0</td>\n",
              "      <td>9000.0</td>\n",
              "    </tr>\n",
              "    <tr>\n",
              "      <th>44</th>\n",
              "      <td>-38</td>\n",
              "      <td>management</td>\n",
              "      <td>divorced</td>\n",
              "      <td>tertiary</td>\n",
              "      <td>no</td>\n",
              "      <td>511</td>\n",
              "      <td>yes</td>\n",
              "      <td>no</td>\n",
              "      <td>cellular</td>\n",
              "      <td>28</td>\n",
              "      <td>aug</td>\n",
              "      <td>102.0</td>\n",
              "      <td>2</td>\n",
              "      <td>-1</td>\n",
              "      <td>0</td>\n",
              "      <td>unknown</td>\n",
              "      <td>yes</td>\n",
              "      <td>75000.0</td>\n",
              "      <td>18000.0</td>\n",
              "    </tr>\n",
              "  </tbody>\n",
              "</table>\n",
              "</div>\n",
              "    <div class=\"colab-df-buttons\">\n",
              "\n",
              "  <div class=\"colab-df-container\">\n",
              "    <button class=\"colab-df-convert\" onclick=\"convertToInteractive('df-2096bd72-bd7f-448f-9f08-70efcc5ea726')\"\n",
              "            title=\"Convert this dataframe to an interactive table.\"\n",
              "            style=\"display:none;\">\n",
              "\n",
              "  <svg xmlns=\"http://www.w3.org/2000/svg\" height=\"24px\" viewBox=\"0 -960 960 960\">\n",
              "    <path d=\"M120-120v-720h720v720H120Zm60-500h600v-160H180v160Zm220 220h160v-160H400v160Zm0 220h160v-160H400v160ZM180-400h160v-160H180v160Zm440 0h160v-160H620v160ZM180-180h160v-160H180v160Zm440 0h160v-160H620v160Z\"/>\n",
              "  </svg>\n",
              "    </button>\n",
              "\n",
              "  <style>\n",
              "    .colab-df-container {\n",
              "      display:flex;\n",
              "      gap: 12px;\n",
              "    }\n",
              "\n",
              "    .colab-df-convert {\n",
              "      background-color: #E8F0FE;\n",
              "      border: none;\n",
              "      border-radius: 50%;\n",
              "      cursor: pointer;\n",
              "      display: none;\n",
              "      fill: #1967D2;\n",
              "      height: 32px;\n",
              "      padding: 0 0 0 0;\n",
              "      width: 32px;\n",
              "    }\n",
              "\n",
              "    .colab-df-convert:hover {\n",
              "      background-color: #E2EBFA;\n",
              "      box-shadow: 0px 1px 2px rgba(60, 64, 67, 0.3), 0px 1px 3px 1px rgba(60, 64, 67, 0.15);\n",
              "      fill: #174EA6;\n",
              "    }\n",
              "\n",
              "    .colab-df-buttons div {\n",
              "      margin-bottom: 4px;\n",
              "    }\n",
              "\n",
              "    [theme=dark] .colab-df-convert {\n",
              "      background-color: #3B4455;\n",
              "      fill: #D2E3FC;\n",
              "    }\n",
              "\n",
              "    [theme=dark] .colab-df-convert:hover {\n",
              "      background-color: #434B5C;\n",
              "      box-shadow: 0px 1px 3px 1px rgba(0, 0, 0, 0.15);\n",
              "      filter: drop-shadow(0px 1px 2px rgba(0, 0, 0, 0.3));\n",
              "      fill: #FFFFFF;\n",
              "    }\n",
              "  </style>\n",
              "\n",
              "    <script>\n",
              "      const buttonEl =\n",
              "        document.querySelector('#df-2096bd72-bd7f-448f-9f08-70efcc5ea726 button.colab-df-convert');\n",
              "      buttonEl.style.display =\n",
              "        google.colab.kernel.accessAllowed ? 'block' : 'none';\n",
              "\n",
              "      async function convertToInteractive(key) {\n",
              "        const element = document.querySelector('#df-2096bd72-bd7f-448f-9f08-70efcc5ea726');\n",
              "        const dataTable =\n",
              "          await google.colab.kernel.invokeFunction('convertToInteractive',\n",
              "                                                    [key], {});\n",
              "        if (!dataTable) return;\n",
              "\n",
              "        const docLinkHtml = 'Like what you see? Visit the ' +\n",
              "          '<a target=\"_blank\" href=https://colab.research.google.com/notebooks/data_table.ipynb>data table notebook</a>'\n",
              "          + ' to learn more about interactive tables.';\n",
              "        element.innerHTML = '';\n",
              "        dataTable['output_type'] = 'display_data';\n",
              "        await google.colab.output.renderOutput(dataTable, element);\n",
              "        const docLink = document.createElement('div');\n",
              "        docLink.innerHTML = docLinkHtml;\n",
              "        element.appendChild(docLink);\n",
              "      }\n",
              "    </script>\n",
              "  </div>\n",
              "\n",
              "\n",
              "<div id=\"df-773bc52a-f18d-42c1-b4be-2d739dc50d88\">\n",
              "  <button class=\"colab-df-quickchart\" onclick=\"quickchart('df-773bc52a-f18d-42c1-b4be-2d739dc50d88')\"\n",
              "            title=\"Suggest charts\"\n",
              "            style=\"display:none;\">\n",
              "\n",
              "<svg xmlns=\"http://www.w3.org/2000/svg\" height=\"24px\"viewBox=\"0 0 24 24\"\n",
              "     width=\"24px\">\n",
              "    <g>\n",
              "        <path d=\"M19 3H5c-1.1 0-2 .9-2 2v14c0 1.1.9 2 2 2h14c1.1 0 2-.9 2-2V5c0-1.1-.9-2-2-2zM9 17H7v-7h2v7zm4 0h-2V7h2v10zm4 0h-2v-4h2v4z\"/>\n",
              "    </g>\n",
              "</svg>\n",
              "  </button>\n",
              "\n",
              "<style>\n",
              "  .colab-df-quickchart {\n",
              "      --bg-color: #E8F0FE;\n",
              "      --fill-color: #1967D2;\n",
              "      --hover-bg-color: #E2EBFA;\n",
              "      --hover-fill-color: #174EA6;\n",
              "      --disabled-fill-color: #AAA;\n",
              "      --disabled-bg-color: #DDD;\n",
              "  }\n",
              "\n",
              "  [theme=dark] .colab-df-quickchart {\n",
              "      --bg-color: #3B4455;\n",
              "      --fill-color: #D2E3FC;\n",
              "      --hover-bg-color: #434B5C;\n",
              "      --hover-fill-color: #FFFFFF;\n",
              "      --disabled-bg-color: #3B4455;\n",
              "      --disabled-fill-color: #666;\n",
              "  }\n",
              "\n",
              "  .colab-df-quickchart {\n",
              "    background-color: var(--bg-color);\n",
              "    border: none;\n",
              "    border-radius: 50%;\n",
              "    cursor: pointer;\n",
              "    display: none;\n",
              "    fill: var(--fill-color);\n",
              "    height: 32px;\n",
              "    padding: 0;\n",
              "    width: 32px;\n",
              "  }\n",
              "\n",
              "  .colab-df-quickchart:hover {\n",
              "    background-color: var(--hover-bg-color);\n",
              "    box-shadow: 0 1px 2px rgba(60, 64, 67, 0.3), 0 1px 3px 1px rgba(60, 64, 67, 0.15);\n",
              "    fill: var(--button-hover-fill-color);\n",
              "  }\n",
              "\n",
              "  .colab-df-quickchart-complete:disabled,\n",
              "  .colab-df-quickchart-complete:disabled:hover {\n",
              "    background-color: var(--disabled-bg-color);\n",
              "    fill: var(--disabled-fill-color);\n",
              "    box-shadow: none;\n",
              "  }\n",
              "\n",
              "  .colab-df-spinner {\n",
              "    border: 2px solid var(--fill-color);\n",
              "    border-color: transparent;\n",
              "    border-bottom-color: var(--fill-color);\n",
              "    animation:\n",
              "      spin 1s steps(1) infinite;\n",
              "  }\n",
              "\n",
              "  @keyframes spin {\n",
              "    0% {\n",
              "      border-color: transparent;\n",
              "      border-bottom-color: var(--fill-color);\n",
              "      border-left-color: var(--fill-color);\n",
              "    }\n",
              "    20% {\n",
              "      border-color: transparent;\n",
              "      border-left-color: var(--fill-color);\n",
              "      border-top-color: var(--fill-color);\n",
              "    }\n",
              "    30% {\n",
              "      border-color: transparent;\n",
              "      border-left-color: var(--fill-color);\n",
              "      border-top-color: var(--fill-color);\n",
              "      border-right-color: var(--fill-color);\n",
              "    }\n",
              "    40% {\n",
              "      border-color: transparent;\n",
              "      border-right-color: var(--fill-color);\n",
              "      border-top-color: var(--fill-color);\n",
              "    }\n",
              "    60% {\n",
              "      border-color: transparent;\n",
              "      border-right-color: var(--fill-color);\n",
              "    }\n",
              "    80% {\n",
              "      border-color: transparent;\n",
              "      border-right-color: var(--fill-color);\n",
              "      border-bottom-color: var(--fill-color);\n",
              "    }\n",
              "    90% {\n",
              "      border-color: transparent;\n",
              "      border-bottom-color: var(--fill-color);\n",
              "    }\n",
              "  }\n",
              "</style>\n",
              "\n",
              "  <script>\n",
              "    async function quickchart(key) {\n",
              "      const quickchartButtonEl =\n",
              "        document.querySelector('#' + key + ' button');\n",
              "      quickchartButtonEl.disabled = true;  // To prevent multiple clicks.\n",
              "      quickchartButtonEl.classList.add('colab-df-spinner');\n",
              "      try {\n",
              "        const charts = await google.colab.kernel.invokeFunction(\n",
              "            'suggestCharts', [key], {});\n",
              "      } catch (error) {\n",
              "        console.error('Error during call to suggestCharts:', error);\n",
              "      }\n",
              "      quickchartButtonEl.classList.remove('colab-df-spinner');\n",
              "      quickchartButtonEl.classList.add('colab-df-quickchart-complete');\n",
              "    }\n",
              "    (() => {\n",
              "      let quickchartButtonEl =\n",
              "        document.querySelector('#df-773bc52a-f18d-42c1-b4be-2d739dc50d88 button');\n",
              "      quickchartButtonEl.style.display =\n",
              "        google.colab.kernel.accessAllowed ? 'block' : 'none';\n",
              "    })();\n",
              "  </script>\n",
              "</div>\n",
              "\n",
              "    </div>\n",
              "  </div>\n"
            ]
          },
          "metadata": {},
          "execution_count": 11
        }
      ],
      "source": [
        "df[df['Age of the customer']<0]#To detect an anomaly if it exists."
      ]
    },
    {
      "cell_type": "code",
      "execution_count": null,
      "metadata": {
        "colab": {
          "base_uri": "https://localhost:8080/",
          "height": 306
        },
        "id": "3Bwh18BDmk67",
        "outputId": "6e164952-99cd-4115-f960-3d8ecd696eef"
      },
      "outputs": [
        {
          "output_type": "stream",
          "name": "stderr",
          "text": [
            "<ipython-input-12-0853e057a10a>:1: SettingWithCopyWarning: \n",
            "A value is trying to be set on a copy of a slice from a DataFrame\n",
            "\n",
            "See the caveats in the documentation: https://pandas.pydata.org/pandas-docs/stable/user_guide/indexing.html#returning-a-view-versus-a-copy\n",
            "  df['Age of the customer'].loc[df['Age of the customer'] == -38] = 38 #Changes the negative thirty-eight to positive thirty-eight.\n",
            "<ipython-input-12-0853e057a10a>:2: SettingWithCopyWarning: \n",
            "A value is trying to be set on a copy of a slice from a DataFrame\n",
            "\n",
            "See the caveats in the documentation: https://pandas.pydata.org/pandas-docs/stable/user_guide/indexing.html#returning-a-view-versus-a-copy\n",
            "  df['Age of the customer'].loc[df['Age of the customer'] == -36] = 36 #Changes the negative thirty-six to positive thirty-six.\n"
          ]
        },
        {
          "output_type": "execute_result",
          "data": {
            "text/plain": [
              "Empty DataFrame\n",
              "Columns: [Age of the customer, ??What is the job of the customer??, MARITUL, EDUCTION, default, BALANCE, Does the customer have a housing loan ??, loan, contact, //day, //month, DURATION, CAMPAIGN, pdays, previous, poutcome, deposit, income, loan_amount]\n",
              "Index: []"
            ],
            "text/html": [
              "\n",
              "  <div id=\"df-ac16c045-d68a-47a7-b091-07415cd46dff\" class=\"colab-df-container\">\n",
              "    <div>\n",
              "<style scoped>\n",
              "    .dataframe tbody tr th:only-of-type {\n",
              "        vertical-align: middle;\n",
              "    }\n",
              "\n",
              "    .dataframe tbody tr th {\n",
              "        vertical-align: top;\n",
              "    }\n",
              "\n",
              "    .dataframe thead th {\n",
              "        text-align: right;\n",
              "    }\n",
              "</style>\n",
              "<table border=\"1\" class=\"dataframe\">\n",
              "  <thead>\n",
              "    <tr style=\"text-align: right;\">\n",
              "      <th></th>\n",
              "      <th>Age of the customer</th>\n",
              "      <th>??What is the job of the customer??</th>\n",
              "      <th>MARITUL</th>\n",
              "      <th>EDUCTION</th>\n",
              "      <th>default</th>\n",
              "      <th>BALANCE</th>\n",
              "      <th>Does the customer have a housing loan ??</th>\n",
              "      <th>loan</th>\n",
              "      <th>contact</th>\n",
              "      <th>//day</th>\n",
              "      <th>//month</th>\n",
              "      <th>DURATION</th>\n",
              "      <th>CAMPAIGN</th>\n",
              "      <th>pdays</th>\n",
              "      <th>previous</th>\n",
              "      <th>poutcome</th>\n",
              "      <th>deposit</th>\n",
              "      <th>income</th>\n",
              "      <th>loan_amount</th>\n",
              "    </tr>\n",
              "    <tr>\n",
              "      <th>ID</th>\n",
              "      <th></th>\n",
              "      <th></th>\n",
              "      <th></th>\n",
              "      <th></th>\n",
              "      <th></th>\n",
              "      <th></th>\n",
              "      <th></th>\n",
              "      <th></th>\n",
              "      <th></th>\n",
              "      <th></th>\n",
              "      <th></th>\n",
              "      <th></th>\n",
              "      <th></th>\n",
              "      <th></th>\n",
              "      <th></th>\n",
              "      <th></th>\n",
              "      <th></th>\n",
              "      <th></th>\n",
              "      <th></th>\n",
              "    </tr>\n",
              "  </thead>\n",
              "  <tbody>\n",
              "  </tbody>\n",
              "</table>\n",
              "</div>\n",
              "    <div class=\"colab-df-buttons\">\n",
              "\n",
              "  <div class=\"colab-df-container\">\n",
              "    <button class=\"colab-df-convert\" onclick=\"convertToInteractive('df-ac16c045-d68a-47a7-b091-07415cd46dff')\"\n",
              "            title=\"Convert this dataframe to an interactive table.\"\n",
              "            style=\"display:none;\">\n",
              "\n",
              "  <svg xmlns=\"http://www.w3.org/2000/svg\" height=\"24px\" viewBox=\"0 -960 960 960\">\n",
              "    <path d=\"M120-120v-720h720v720H120Zm60-500h600v-160H180v160Zm220 220h160v-160H400v160Zm0 220h160v-160H400v160ZM180-400h160v-160H180v160Zm440 0h160v-160H620v160ZM180-180h160v-160H180v160Zm440 0h160v-160H620v160Z\"/>\n",
              "  </svg>\n",
              "    </button>\n",
              "\n",
              "  <style>\n",
              "    .colab-df-container {\n",
              "      display:flex;\n",
              "      gap: 12px;\n",
              "    }\n",
              "\n",
              "    .colab-df-convert {\n",
              "      background-color: #E8F0FE;\n",
              "      border: none;\n",
              "      border-radius: 50%;\n",
              "      cursor: pointer;\n",
              "      display: none;\n",
              "      fill: #1967D2;\n",
              "      height: 32px;\n",
              "      padding: 0 0 0 0;\n",
              "      width: 32px;\n",
              "    }\n",
              "\n",
              "    .colab-df-convert:hover {\n",
              "      background-color: #E2EBFA;\n",
              "      box-shadow: 0px 1px 2px rgba(60, 64, 67, 0.3), 0px 1px 3px 1px rgba(60, 64, 67, 0.15);\n",
              "      fill: #174EA6;\n",
              "    }\n",
              "\n",
              "    .colab-df-buttons div {\n",
              "      margin-bottom: 4px;\n",
              "    }\n",
              "\n",
              "    [theme=dark] .colab-df-convert {\n",
              "      background-color: #3B4455;\n",
              "      fill: #D2E3FC;\n",
              "    }\n",
              "\n",
              "    [theme=dark] .colab-df-convert:hover {\n",
              "      background-color: #434B5C;\n",
              "      box-shadow: 0px 1px 3px 1px rgba(0, 0, 0, 0.15);\n",
              "      filter: drop-shadow(0px 1px 2px rgba(0, 0, 0, 0.3));\n",
              "      fill: #FFFFFF;\n",
              "    }\n",
              "  </style>\n",
              "\n",
              "    <script>\n",
              "      const buttonEl =\n",
              "        document.querySelector('#df-ac16c045-d68a-47a7-b091-07415cd46dff button.colab-df-convert');\n",
              "      buttonEl.style.display =\n",
              "        google.colab.kernel.accessAllowed ? 'block' : 'none';\n",
              "\n",
              "      async function convertToInteractive(key) {\n",
              "        const element = document.querySelector('#df-ac16c045-d68a-47a7-b091-07415cd46dff');\n",
              "        const dataTable =\n",
              "          await google.colab.kernel.invokeFunction('convertToInteractive',\n",
              "                                                    [key], {});\n",
              "        if (!dataTable) return;\n",
              "\n",
              "        const docLinkHtml = 'Like what you see? Visit the ' +\n",
              "          '<a target=\"_blank\" href=https://colab.research.google.com/notebooks/data_table.ipynb>data table notebook</a>'\n",
              "          + ' to learn more about interactive tables.';\n",
              "        element.innerHTML = '';\n",
              "        dataTable['output_type'] = 'display_data';\n",
              "        await google.colab.output.renderOutput(dataTable, element);\n",
              "        const docLink = document.createElement('div');\n",
              "        docLink.innerHTML = docLinkHtml;\n",
              "        element.appendChild(docLink);\n",
              "      }\n",
              "    </script>\n",
              "  </div>\n",
              "\n",
              "\n",
              "    </div>\n",
              "  </div>\n"
            ]
          },
          "metadata": {},
          "execution_count": 12
        }
      ],
      "source": [
        "df['Age of the customer'].loc[df['Age of the customer'] == -38] = 38 #Changes the negative thirty-eight to positive thirty-eight.\n",
        "df['Age of the customer'].loc[df['Age of the customer'] == -36] = 36 #Changes the negative thirty-six to positive thirty-six.\n",
        "df[df['Age of the customer']<0]#To see if the negative number changed or not."
      ]
    },
    {
      "cell_type": "code",
      "execution_count": null,
      "metadata": {
        "id": "CeTbUh6koS5S"
      },
      "outputs": [],
      "source": [
        "#Changes the name of the columns to more meaningful names or fixes the typos.\n",
        "df.rename(columns = {'??What is the job of the customer??': 'Customers Job'},inplace=True)\n",
        "df.rename(columns = {'Does the customer have a housing loan ??': 'House Loan'},inplace=True)\n",
        "df.rename(columns = {'Age of the customer': 'Customers Age'},inplace=True)\n",
        "df.rename(columns = {'default': 'Credit Card'},inplace=True)\n",
        "df.rename(columns = {'BALANCE': 'Balance'},inplace=True)\n",
        "df.rename(columns = {'loan': 'Personal Loan'},inplace=True)\n",
        "df.rename(columns = {'contact': 'Contact Type'},inplace=True)\n",
        "df.rename(columns = {'MARITUL': 'Marital Status'},inplace=True)\n",
        "df.rename(columns = {'EDUCTION': 'Education Level'},inplace=True)\n",
        "df= df.rename(columns={\"//day\":\"Day\",\"//month\":\"Month\",\"DURATION\":\"Duration\",\"CAMPAIGN\":\"Ncampaign\",\"pdays\":\"Pdays\",\"previous\":\"Nprevious\",\"poutcome\":\"Poutcome\",\"deposit\":\"Deposit\",\"income\":\"Income\",\"loan_amount\":\"Loan_amount\"})"
      ]
    },
    {
      "cell_type": "code",
      "execution_count": null,
      "metadata": {
        "colab": {
          "base_uri": "https://localhost:8080/"
        },
        "id": "vkkjwX5XqDJS",
        "outputId": "d0915a7e-9049-4762-d5f6-9db1405bd5e5"
      },
      "outputs": [
        {
          "output_type": "stream",
          "name": "stdout",
          "text": [
            "<class 'pandas.core.frame.DataFrame'>\n",
            "Int64Index: 113 entries, 1 to 113\n",
            "Data columns (total 19 columns):\n",
            " #   Column           Non-Null Count  Dtype  \n",
            "---  ------           --------------  -----  \n",
            " 0   Customers Age    113 non-null    int64  \n",
            " 1   Customers Job    113 non-null    object \n",
            " 2   Marital Status   113 non-null    object \n",
            " 3   Education Level  113 non-null    object \n",
            " 4   Credit Card      113 non-null    object \n",
            " 5   Balance          113 non-null    int64  \n",
            " 6   House Loan       113 non-null    object \n",
            " 7   Personal Loan    113 non-null    object \n",
            " 8   Contact Type     113 non-null    object \n",
            " 9   Day              113 non-null    int64  \n",
            " 10  Month            113 non-null    object \n",
            " 11  Duration         111 non-null    float64\n",
            " 12  Ncampaign        113 non-null    object \n",
            " 13  Pdays            113 non-null    int64  \n",
            " 14  Nprevious        113 non-null    int64  \n",
            " 15  Poutcome         113 non-null    object \n",
            " 16  Deposit          113 non-null    object \n",
            " 17  Income           111 non-null    float64\n",
            " 18  Loan_amount      111 non-null    float64\n",
            "dtypes: float64(3), int64(5), object(11)\n",
            "memory usage: 17.7+ KB\n"
          ]
        }
      ],
      "source": [
        "df.info()#To see whether the names of the columns changed or not."
      ]
    },
    {
      "cell_type": "code",
      "execution_count": null,
      "metadata": {
        "colab": {
          "base_uri": "https://localhost:8080/"
        },
        "id": "GI1vwls9sLbn",
        "outputId": "8a0a54f1-3f20-4a5c-827b-150e43f30493"
      },
      "outputs": [
        {
          "output_type": "stream",
          "name": "stdout",
          "text": [
            "Bluecollar      26\n",
            "Technician      23\n",
            "Management      19\n",
            "Admin           17\n",
            "Services         8\n",
            "Retired          8\n",
            "Student          6\n",
            "Entrepreneur     4\n",
            "Unemployed       2\n",
            "Name: Customers Job, dtype: int64\n"
          ]
        }
      ],
      "source": [
        "df['Customers Job'] = df['Customers Job'].str.replace('-' , '',regex=True)\n",
        "df['Customers Job'] = df['Customers Job'].str.replace('_' , '',regex=True)\n",
        "df['Customers Job'] = df['Customers Job'].str.replace('.','',regex=True)\n",
        "#Three of the above fixes the wrongly typed variables to ensure uniformity.\n",
        "df['Customers Job'] = df['Customers Job'].str.title() #Changes all the variables into the same format, with the first letter being uppercase and others being lowercase.\n",
        "print(df['Customers Job'].value_counts())#To see whether the variables changed or not."
      ]
    },
    {
      "cell_type": "code",
      "execution_count": null,
      "metadata": {
        "colab": {
          "base_uri": "https://localhost:8080/"
        },
        "id": "rh-JC006epZX",
        "outputId": "9e0a4c09-0afd-4ed2-88f5-8e62779f9e45"
      },
      "outputs": [
        {
          "output_type": "stream",
          "name": "stdout",
          "text": [
            "Married     58\n",
            "Single      42\n",
            "Divorced    13\n",
            "Name: Marital Status, dtype: int64\n"
          ]
        }
      ],
      "source": [
        "df['Marital Status'] = df['Marital Status'].str.title()#Changes all the variables into the same format, with the first letter being uppercase and others being lowercase.\n",
        "print(df['Marital Status'].value_counts())#To see whether the variables changed or not."
      ]
    },
    {
      "cell_type": "code",
      "execution_count": null,
      "metadata": {
        "colab": {
          "base_uri": "https://localhost:8080/"
        },
        "id": "_4neNhWZo31b",
        "outputId": "88d7bd59-b24a-4819-fd1d-d0dd0923256d"
      },
      "outputs": [
        {
          "output_type": "stream",
          "name": "stdout",
          "text": [
            "Tertiary     60\n",
            "Secondary    38\n",
            "Primary      15\n",
            "Name: Education Level, dtype: int64\n"
          ]
        }
      ],
      "source": [
        "df['Education Level'] = df['Education Level'].str.title()#Changes all the variables into the same format, with the first letter being uppercase and others being lowercase.\n",
        "df['Education Level'] = df['Education Level'].str.replace('\"','',regex=True)#Fixes the wrongly typed variables to ensure uniformity.\n",
        "print(df['Education Level'].value_counts())#To see whether the variables changed or not."
      ]
    },
    {
      "cell_type": "code",
      "execution_count": null,
      "metadata": {
        "colab": {
          "base_uri": "https://localhost:8080/"
        },
        "id": "6apoEfz0qHby",
        "outputId": "1465a18e-bcb0-4222-ffa1-1dfa6237d2ab"
      },
      "outputs": [
        {
          "output_type": "execute_result",
          "data": {
            "text/plain": [
              "array(['No'], dtype=object)"
            ]
          },
          "metadata": {},
          "execution_count": 18
        }
      ],
      "source": [
        "df['Credit Card'] = df['Credit Card'].str.title()#Changes all the variables into the same format, with the first letter being uppercase and others being lowercase.\n",
        "df['Credit Card'].unique()#To see whether the variables changed or not."
      ]
    },
    {
      "cell_type": "code",
      "execution_count": null,
      "metadata": {
        "colab": {
          "base_uri": "https://localhost:8080/"
        },
        "id": "38EDpLo2qtdC",
        "outputId": "cbd30023-95cf-474f-bac3-772310941185"
      },
      "outputs": [
        {
          "output_type": "stream",
          "name": "stdout",
          "text": [
            "Yes    73\n",
            "No     40\n",
            "Name: House Loan, dtype: int64\n"
          ]
        }
      ],
      "source": [
        "df['House Loan'] = df['House Loan'].str.title()#Changes all the variables into the same format, with the first letter being uppercase and others being lowercase.\n",
        "df['House Loan'] = df['House Loan'].str.replace(' ','',regex=True)#Fixes the wrongly typed variables to ensure uniformity.\n",
        "print(df['House Loan'].value_counts())#To see whether the variables changed or not."
      ]
    },
    {
      "cell_type": "code",
      "execution_count": null,
      "metadata": {
        "colab": {
          "base_uri": "https://localhost:8080/"
        },
        "id": "dED4MgInrb7g",
        "outputId": "9bfde93c-e0f6-45a1-cb29-35b8c013f640"
      },
      "outputs": [
        {
          "output_type": "stream",
          "name": "stdout",
          "text": [
            "No     109\n",
            "Yes      4\n",
            "Name: Personal Loan, dtype: int64\n"
          ]
        }
      ],
      "source": [
        "df['Personal Loan'] = df['Personal Loan'].str.title()#Changes all the variables into the same format, with the first letter being uppercase and others being lowercase.\n",
        "df['Personal Loan'] = df['Personal Loan'].str.replace(' ','',regex=True)#Fixes the wrongly typed variables to ensure uniformity.\n",
        "print(df['Personal Loan'].value_counts())#To see whether the variables changed or not."
      ]
    },
    {
      "cell_type": "code",
      "execution_count": null,
      "metadata": {
        "colab": {
          "base_uri": "https://localhost:8080/"
        },
        "id": "yBTYnXN4rkG3",
        "outputId": "b2e7f065-c0e4-469b-bdfd-7b90dc52021b"
      },
      "outputs": [
        {
          "output_type": "stream",
          "name": "stdout",
          "text": [
            "Cellular     109\n",
            "Telephone      4\n",
            "Name: Contact Type, dtype: int64\n"
          ]
        }
      ],
      "source": [
        "df['Contact Type'] = df['Contact Type'].str.title()#Changes all the variables into the same format, with the first letter being uppercase and others being lowercase.\n",
        "df['Contact Type'] = df['Contact Type'].str.replace(' ','',regex=True)#Fixes the wrongly typed variables to ensure uniformity.\n",
        "print(df['Contact Type'].value_counts())#To see whether the variables changed or not."
      ]
    },
    {
      "cell_type": "code",
      "source": [
        "value_counts = df[\"Pdays\"].value_counts()\n",
        "print(value_counts[value_counts > 1])#Pdays is a unique column that has lots of -1 as a value, so to detect duplicates, we printed the values that have more than two people have that value."
      ],
      "metadata": {
        "colab": {
          "base_uri": "https://localhost:8080/"
        },
        "id": "Qh07zTZDGW9h",
        "outputId": "07fab16f-7a80-4c1b-bd5b-794232d9516e"
      },
      "execution_count": null,
      "outputs": [
        {
          "output_type": "stream",
          "name": "stdout",
          "text": [
            "-1      101\n",
            " 76       2\n",
            " 92       2\n",
            " 165      2\n",
            " 234      2\n",
            " 98       2\n",
            "Name: Pdays, dtype: int64\n"
          ]
        }
      ]
    },
    {
      "cell_type": "code",
      "source": [
        "#To locate the index who we suspect as duplicates (so we can further analyze them to see whether they are duplicates).\n",
        "print(df['Pdays'].loc[df['Pdays'] == 76])\n",
        "print(df['Pdays'].loc[df['Pdays'] == 92])\n",
        "print(df['Pdays'].loc[df['Pdays'] == 165])\n",
        "print(df['Pdays'].loc[df['Pdays'] == 234])\n",
        "print(df['Pdays'].loc[df['Pdays'] == 98])"
      ],
      "metadata": {
        "colab": {
          "base_uri": "https://localhost:8080/"
        },
        "id": "ld9Bsw4MGRJE",
        "outputId": "4b7cc713-fdb0-4309-f76a-3bea13f39ce9"
      },
      "execution_count": null,
      "outputs": [
        {
          "output_type": "stream",
          "name": "stdout",
          "text": [
            "ID\n",
            "1     76\n",
            "21    76\n",
            "Name: Pdays, dtype: int64\n",
            "ID\n",
            "3     92\n",
            "23    92\n",
            "Name: Pdays, dtype: int64\n",
            "ID\n",
            "7     165\n",
            "27    165\n",
            "Name: Pdays, dtype: int64\n",
            "ID\n",
            "16    234\n",
            "36    234\n",
            "Name: Pdays, dtype: int64\n",
            "ID\n",
            "19    98\n",
            "39    98\n",
            "Name: Pdays, dtype: int64\n"
          ]
        }
      ]
    },
    {
      "cell_type": "code",
      "source": [
        "#To compare them with each other and see whether they are duplicates.\n",
        "print(df.loc[19])\n",
        "print(df.loc[39])"
      ],
      "metadata": {
        "colab": {
          "base_uri": "https://localhost:8080/"
        },
        "id": "ZslsA8pDGe6j",
        "outputId": "47184d9b-7a06-44eb-a1a3-01961cacc68d"
      },
      "execution_count": null,
      "outputs": [
        {
          "output_type": "stream",
          "name": "stdout",
          "text": [
            "Customers Age              47\n",
            "Customers Job      Technician\n",
            "Marital Status        Married\n",
            "Education Level     Secondary\n",
            "Credit Card                No\n",
            "Balance                  1128\n",
            "House Loan                Yes\n",
            "Personal Loan              No\n",
            "Contact Type         Cellular\n",
            "Day                         7\n",
            "Month                     apr\n",
            "Duration                190.0\n",
            "Ncampaign                   1\n",
            "Pdays                      98\n",
            "Nprevious                   2\n",
            "Poutcome              success\n",
            "Deposit                   yes\n",
            "Income                75000.0\n",
            "Loan_amount           16000.0\n",
            "Name: 19, dtype: object\n",
            "Customers Age              47\n",
            "Customers Job      Technician\n",
            "Marital Status        Married\n",
            "Education Level     Secondary\n",
            "Credit Card                No\n",
            "Balance                  1128\n",
            "House Loan                Yes\n",
            "Personal Loan              No\n",
            "Contact Type         Cellular\n",
            "Day                         7\n",
            "Month                     apr\n",
            "Duration                190.0\n",
            "Ncampaign                   1\n",
            "Pdays                      98\n",
            "Nprevious                   2\n",
            "Poutcome              success\n",
            "Deposit                   yes\n",
            "Income                75000.0\n",
            "Loan_amount           16000.0\n",
            "Name: 39, dtype: object\n"
          ]
        }
      ]
    },
    {
      "cell_type": "code",
      "source": [
        "#To compare them with each other and see whether they are duplicates.\n",
        "print(df.loc[16])\n",
        "print(df.loc[36])"
      ],
      "metadata": {
        "colab": {
          "base_uri": "https://localhost:8080/"
        },
        "id": "KK2NtHAPGsH7",
        "outputId": "64f3de93-1843-491c-c80e-37ad4f4a1cbb"
      },
      "execution_count": null,
      "outputs": [
        {
          "output_type": "stream",
          "name": "stdout",
          "text": [
            "Customers Age             24\n",
            "Customers Job        Student\n",
            "Marital Status        Single\n",
            "Education Level    Secondary\n",
            "Credit Card               No\n",
            "Balance                  356\n",
            "House Loan                No\n",
            "Personal Loan             No\n",
            "Contact Type        Cellular\n",
            "Day                        9\n",
            "Month                    may\n",
            "Duration                68.0\n",
            "Ncampaign                  1\n",
            "Pdays                    234\n",
            "Nprevious                  3\n",
            "Poutcome             success\n",
            "Deposit                   no\n",
            "Income               30000.0\n",
            "Loan_amount           5000.0\n",
            "Name: 16, dtype: object\n",
            "Customers Age             24\n",
            "Customers Job        Student\n",
            "Marital Status        Single\n",
            "Education Level    Secondary\n",
            "Credit Card               No\n",
            "Balance                  356\n",
            "House Loan                No\n",
            "Personal Loan             No\n",
            "Contact Type        Cellular\n",
            "Day                        9\n",
            "Month                    may\n",
            "Duration                68.0\n",
            "Ncampaign                  1\n",
            "Pdays                    234\n",
            "Nprevious                  3\n",
            "Poutcome             success\n",
            "Deposit                   no\n",
            "Income               30000.0\n",
            "Loan_amount           5000.0\n",
            "Name: 36, dtype: object\n"
          ]
        }
      ]
    },
    {
      "cell_type": "code",
      "source": [
        "#To compare them with each other and see whether they are duplicates.\n",
        "print(df.loc[7])\n",
        "print(df.loc[27])"
      ],
      "metadata": {
        "colab": {
          "base_uri": "https://localhost:8080/"
        },
        "id": "Sbpk2CE8GyD9",
        "outputId": "6f2c3072-6c53-4c90-c560-c95f0b0d4ed5"
      },
      "execution_count": null,
      "outputs": [
        {
          "output_type": "stream",
          "name": "stdout",
          "text": [
            "Customers Age              41\n",
            "Customers Job      Management\n",
            "Marital Status       Divorced\n",
            "Education Level      Tertiary\n",
            "Credit Card                No\n",
            "Balance                   510\n",
            "House Loan                Yes\n",
            "Personal Loan             Yes\n",
            "Contact Type        Telephone\n",
            "Day                        12\n",
            "Month                     may\n",
            "Duration                249.0\n",
            "Ncampaign                   1\n",
            "Pdays                     165\n",
            "Nprevious                   3\n",
            "Poutcome              failure\n",
            "Deposit                   yes\n",
            "Income                70000.0\n",
            "Loan_amount           20000.0\n",
            "Name: 7, dtype: object\n",
            "Customers Age              41\n",
            "Customers Job      Management\n",
            "Marital Status       Divorced\n",
            "Education Level      Tertiary\n",
            "Credit Card                No\n",
            "Balance                   510\n",
            "House Loan                Yes\n",
            "Personal Loan             Yes\n",
            "Contact Type        Telephone\n",
            "Day                        12\n",
            "Month                     may\n",
            "Duration                249.0\n",
            "Ncampaign                   1\n",
            "Pdays                     165\n",
            "Nprevious                   3\n",
            "Poutcome              failure\n",
            "Deposit                   yes\n",
            "Income                70000.0\n",
            "Loan_amount           20000.0\n",
            "Name: 27, dtype: object\n"
          ]
        }
      ]
    },
    {
      "cell_type": "code",
      "source": [
        "#To compare them with each other and see whether they are duplicates.\n",
        "print(df.loc[3])\n",
        "print(df.loc[23])"
      ],
      "metadata": {
        "colab": {
          "base_uri": "https://localhost:8080/"
        },
        "id": "OyzxC9kvG2kZ",
        "outputId": "113e839c-20d7-40f8-d6d9-1476a5b55d0f"
      },
      "execution_count": null,
      "outputs": [
        {
          "output_type": "stream",
          "name": "stdout",
          "text": [
            "Customers Age              53\n",
            "Customers Job      Bluecollar\n",
            "Marital Status        Married\n",
            "Education Level       Primary\n",
            "Credit Card                No\n",
            "Balance                  -120\n",
            "House Loan                 No\n",
            "Personal Loan              No\n",
            "Contact Type        Telephone\n",
            "Day                        16\n",
            "Month                     nov\n",
            "Duration                185.0\n",
            "Ncampaign                   3\n",
            "Pdays                      92\n",
            "Nprevious                   2\n",
            "Poutcome              failure\n",
            "Deposit                    no\n",
            "Income                40000.0\n",
            "Loan_amount            8000.0\n",
            "Name: 3, dtype: object\n",
            "Customers Age              53\n",
            "Customers Job      Bluecollar\n",
            "Marital Status        Married\n",
            "Education Level       Primary\n",
            "Credit Card                No\n",
            "Balance                  -120\n",
            "House Loan                 No\n",
            "Personal Loan              No\n",
            "Contact Type        Telephone\n",
            "Day                        16\n",
            "Month                     nov\n",
            "Duration                185.0\n",
            "Ncampaign                   3\n",
            "Pdays                      92\n",
            "Nprevious                   2\n",
            "Poutcome              failure\n",
            "Deposit                    no\n",
            "Income                40000.0\n",
            "Loan_amount            8000.0\n",
            "Name: 23, dtype: object\n"
          ]
        }
      ]
    },
    {
      "cell_type": "code",
      "source": [
        "#To compare them with each other and see whether they are duplicates.\n",
        "print(df.loc[1])\n",
        "print(df.loc[21])"
      ],
      "metadata": {
        "colab": {
          "base_uri": "https://localhost:8080/"
        },
        "id": "BfTo5JJwG6yp",
        "outputId": "0e8b7fa2-79dc-4230-c790-130d66820d69"
      },
      "execution_count": null,
      "outputs": [
        {
          "output_type": "stream",
          "name": "stdout",
          "text": [
            "Customers Age              45\n",
            "Customers Job      Management\n",
            "Marital Status        Married\n",
            "Education Level     Secondary\n",
            "Credit Card                No\n",
            "Balance                  1025\n",
            "House Loan                Yes\n",
            "Personal Loan              No\n",
            "Contact Type         Cellular\n",
            "Day                        12\n",
            "Month                     may\n",
            "Duration                365.0\n",
            "Ncampaign                   2\n",
            "Pdays                      76\n",
            "Nprevious                   3\n",
            "Poutcome              success\n",
            "Deposit                   yes\n",
            "Income                50000.0\n",
            "Loan_amount           10000.0\n",
            "Name: 1, dtype: object\n",
            "Customers Age              45\n",
            "Customers Job      Management\n",
            "Marital Status        Married\n",
            "Education Level     Secondary\n",
            "Credit Card                No\n",
            "Balance                  1025\n",
            "House Loan                Yes\n",
            "Personal Loan              No\n",
            "Contact Type         Cellular\n",
            "Day                        12\n",
            "Month                     may\n",
            "Duration                365.0\n",
            "Ncampaign                   2\n",
            "Pdays                      76\n",
            "Nprevious                   3\n",
            "Poutcome              success\n",
            "Deposit                   yes\n",
            "Income                50000.0\n",
            "Loan_amount           10000.0\n",
            "Name: 21, dtype: object\n"
          ]
        }
      ]
    },
    {
      "cell_type": "code",
      "source": [
        "df = df.drop(index=[21, 23, 27, 36, 39])#To delete the duplicates from the dataframe."
      ],
      "metadata": {
        "id": "8qqCyR67IZz5"
      },
      "execution_count": null,
      "outputs": []
    },
    {
      "cell_type": "code",
      "source": [
        "df.info()#To see whether they are deleted or not."
      ],
      "metadata": {
        "colab": {
          "base_uri": "https://localhost:8080/"
        },
        "id": "kx7Ty1IzIfrJ",
        "outputId": "eae38583-d464-4bb6-a7f6-ad0a7b38dcc1"
      },
      "execution_count": null,
      "outputs": [
        {
          "output_type": "stream",
          "name": "stdout",
          "text": [
            "<class 'pandas.core.frame.DataFrame'>\n",
            "Int64Index: 108 entries, 1 to 113\n",
            "Data columns (total 19 columns):\n",
            " #   Column           Non-Null Count  Dtype  \n",
            "---  ------           --------------  -----  \n",
            " 0   Customers Age    108 non-null    int64  \n",
            " 1   Customers Job    108 non-null    object \n",
            " 2   Marital Status   108 non-null    object \n",
            " 3   Education Level  108 non-null    object \n",
            " 4   Credit Card      108 non-null    object \n",
            " 5   Balance          108 non-null    int64  \n",
            " 6   House Loan       108 non-null    object \n",
            " 7   Personal Loan    108 non-null    object \n",
            " 8   Contact Type     108 non-null    object \n",
            " 9   Day              108 non-null    int64  \n",
            " 10  Month            108 non-null    object \n",
            " 11  Duration         106 non-null    float64\n",
            " 12  Ncampaign        108 non-null    object \n",
            " 13  Pdays            108 non-null    int64  \n",
            " 14  Nprevious        108 non-null    int64  \n",
            " 15  Poutcome         108 non-null    object \n",
            " 16  Deposit          108 non-null    object \n",
            " 17  Income           106 non-null    float64\n",
            " 18  Loan_amount      106 non-null    float64\n",
            "dtypes: float64(3), int64(5), object(11)\n",
            "memory usage: 16.9+ KB\n"
          ]
        }
      ]
    },
    {
      "cell_type": "code",
      "execution_count": null,
      "metadata": {
        "colab": {
          "base_uri": "https://localhost:8080/"
        },
        "id": "H7f71Hnxs8-T",
        "outputId": "96641f60-7050-4f3f-b181-3171a2c3c6ac"
      },
      "outputs": [
        {
          "output_type": "stream",
          "name": "stdout",
          "text": [
            "ID\n",
            "11   NaN\n",
            "35   NaN\n",
            "Name: Income, dtype: float64\n"
          ]
        }
      ],
      "source": [
        "#To detect the index of the rows with a null value in their Income column.\n",
        "missing_values = df[\"Income\"].isnull()\n",
        "print(df[\"Income\"][missing_values])"
      ]
    },
    {
      "cell_type": "code",
      "execution_count": null,
      "metadata": {
        "id": "-k46GgAKul3A"
      },
      "outputs": [],
      "source": [
        "df[\"Income\"] = df[\"Income\"].fillna(0)#In the next step, we want to change the Income column from float type to int, so temporarily, we change the nulls to 0."
      ]
    },
    {
      "cell_type": "code",
      "execution_count": null,
      "metadata": {
        "id": "26epab6jvdtg"
      },
      "outputs": [],
      "source": [
        "df[\"Income\"] = df[\"Income\"].astype(\"int\")#Income is a numeric variable, so we change it to the datatype of int."
      ]
    },
    {
      "cell_type": "code",
      "execution_count": null,
      "metadata": {
        "colab": {
          "base_uri": "https://localhost:8080/"
        },
        "id": "Md4Nfm8yvlxI",
        "outputId": "a378c767-c77f-4050-c210-271e3af091ff"
      },
      "outputs": [
        {
          "output_type": "stream",
          "name": "stdout",
          "text": [
            "Mean income for Technicians: 60000.0\n"
          ]
        }
      ],
      "source": [
        "technician_income = df[df[\"Customers Job\"] == \"Technician\"][\"Income\"].mean()\n",
        "print(f\"Mean income for Technicians: {technician_income}\")#The person who has the 11 as its index is a technician, so we want to change the null to the mean of technicians to gain more meaningful visualizations."
      ]
    },
    {
      "cell_type": "code",
      "execution_count": null,
      "metadata": {
        "id": "9dhl-xQOv-p6"
      },
      "outputs": [],
      "source": [
        "df.loc[11, \"Income\"] = 60000 #To change the null number to the Mean of technicians."
      ]
    },
    {
      "cell_type": "code",
      "source": [
        "technician_income = df[df[\"Customers Job\"] == \"Management\"][\"Income\"].mean()\n",
        "print(f\"Mean income for Management: {technician_income}\")#The person who has the 35 as its index is a Management type, so we want to change the null to the mean of Management to gain more meaningful visualizations."
      ],
      "metadata": {
        "colab": {
          "base_uri": "https://localhost:8080/"
        },
        "id": "TPwsSrdFw-Gt",
        "outputId": "8e6b2437-db11-4ffc-8e62-73ec10d163cc"
      },
      "execution_count": null,
      "outputs": [
        {
          "output_type": "stream",
          "name": "stdout",
          "text": [
            "Mean income for Management: 71470.58823529411\n"
          ]
        }
      ]
    },
    {
      "cell_type": "code",
      "source": [
        "df.loc[35, \"Income\"] = 71470 #To change the null number to the Mean of management."
      ],
      "metadata": {
        "id": "_n38gtaoxJz5"
      },
      "execution_count": null,
      "outputs": []
    },
    {
      "cell_type": "code",
      "source": [
        "#To detect the index of the rows with a null value in their Loan_amount column.\n",
        "missing_values2 = df[\"Loan_amount\"].isnull()\n",
        "print(df[\"Loan_amount\"][missing_values2])"
      ],
      "metadata": {
        "colab": {
          "base_uri": "https://localhost:8080/"
        },
        "id": "8odnxnm4xZ3t",
        "outputId": "7db992ab-5e6e-4ed5-bbfe-467b487cc909"
      },
      "execution_count": null,
      "outputs": [
        {
          "output_type": "stream",
          "name": "stdout",
          "text": [
            "ID\n",
            "11   NaN\n",
            "35   NaN\n",
            "Name: Loan_amount, dtype: float64\n"
          ]
        }
      ]
    },
    {
      "cell_type": "code",
      "source": [
        "df[\"Loan_amount\"] = df[\"Loan_amount\"].fillna(0) #In the next step, we want to change the Loan_amount column from float type to int, so temporarily, we change the nulls to 0."
      ],
      "metadata": {
        "id": "urucebqLyS_7"
      },
      "execution_count": null,
      "outputs": []
    },
    {
      "cell_type": "code",
      "source": [
        "df[\"Loan_amount\"] = df[\"Loan_amount\"].astype(\"int\") #Loan_amount is a numeric variable, so we change it to the datatype of int."
      ],
      "metadata": {
        "id": "06mA6SZbynbF"
      },
      "execution_count": null,
      "outputs": []
    },
    {
      "cell_type": "code",
      "source": [
        "technician_income = df[df[\"Customers Job\"] == \"Technician\"][\"Loan_amount\"].mean()\n",
        "print(f\"Mean loan amount for Technicians: {technician_income}\") #The person who has the 11 as its index is a technician, so we want to change the null to the mean of technicians to gain more meaningful visualizations."
      ],
      "metadata": {
        "colab": {
          "base_uri": "https://localhost:8080/"
        },
        "id": "crx85zV_yyAz",
        "outputId": "53a3da63-1408-454a-c289-43ac3037d34c"
      },
      "execution_count": null,
      "outputs": [
        {
          "output_type": "stream",
          "name": "stdout",
          "text": [
            "Mean loan amount for Technicians: 13500.0\n"
          ]
        }
      ]
    },
    {
      "cell_type": "code",
      "source": [
        "df.loc[11, \"Loan_amount\"] = 13500 #To change the null number to the Mean of technicians."
      ],
      "metadata": {
        "id": "E9kKrFEqzAK4"
      },
      "execution_count": null,
      "outputs": []
    },
    {
      "cell_type": "code",
      "source": [
        "technician_income = df[df[\"Customers Job\"] == \"Management\"][\"Loan_amount\"].mean()\n",
        "print(f\"Mean loan amount for Management: {technician_income}\")#The person who has the 35 as its index is a Management type, so we want to change the null to the mean of Management to gain more meaningful visualizations."
      ],
      "metadata": {
        "colab": {
          "base_uri": "https://localhost:8080/"
        },
        "id": "1HyGNq5FzL4R",
        "outputId": "af6eceb6-3ab6-4678-d83e-f06cc1181da8"
      },
      "execution_count": null,
      "outputs": [
        {
          "output_type": "stream",
          "name": "stdout",
          "text": [
            "Mean loan amount for Management: 17176.470588235294\n"
          ]
        }
      ]
    },
    {
      "cell_type": "code",
      "source": [
        "df.loc[35, \"Loan_amount\"] = 17176 #To change the null number to the Mean of management."
      ],
      "metadata": {
        "id": "R4CqGbWJzVZ0"
      },
      "execution_count": null,
      "outputs": []
    },
    {
      "cell_type": "code",
      "source": [
        "df.info()#To see if the null values are gone."
      ],
      "metadata": {
        "id": "Qh_uQ0WV2N5D",
        "colab": {
          "base_uri": "https://localhost:8080/"
        },
        "outputId": "fd72c388-e1f2-40d7-d681-18f78e9a4ff3"
      },
      "execution_count": null,
      "outputs": [
        {
          "output_type": "stream",
          "name": "stdout",
          "text": [
            "<class 'pandas.core.frame.DataFrame'>\n",
            "Int64Index: 108 entries, 1 to 113\n",
            "Data columns (total 19 columns):\n",
            " #   Column           Non-Null Count  Dtype  \n",
            "---  ------           --------------  -----  \n",
            " 0   Customers Age    108 non-null    int64  \n",
            " 1   Customers Job    108 non-null    object \n",
            " 2   Marital Status   108 non-null    object \n",
            " 3   Education Level  108 non-null    object \n",
            " 4   Credit Card      108 non-null    object \n",
            " 5   Balance          108 non-null    int64  \n",
            " 6   House Loan       108 non-null    object \n",
            " 7   Personal Loan    108 non-null    object \n",
            " 8   Contact Type     108 non-null    object \n",
            " 9   Day              108 non-null    int64  \n",
            " 10  Month            108 non-null    object \n",
            " 11  Duration         106 non-null    float64\n",
            " 12  Ncampaign        108 non-null    object \n",
            " 13  Pdays            108 non-null    int64  \n",
            " 14  Nprevious        108 non-null    int64  \n",
            " 15  Poutcome         108 non-null    object \n",
            " 16  Deposit          108 non-null    object \n",
            " 17  Income           108 non-null    int64  \n",
            " 18  Loan_amount      108 non-null    int64  \n",
            "dtypes: float64(1), int64(7), object(11)\n",
            "memory usage: 20.9+ KB\n"
          ]
        }
      ]
    },
    {
      "cell_type": "code",
      "source": [
        "df[\"Month\"] = df[\"Month\"].str.replace(\"April\", \"Apr\")\n",
        "df[\"Month\"] = df[\"Month\"].str.replace(\"November\",\"Nov\")\n",
        "df[\"Month\"] = df[\"Month\"].str.replace(\"July\",\"Jul\")\n",
        "#Three of the above fixes the wrongly typed variables to ensure uniformity.\n",
        "df[\"Month\"]= df[\"Month\"].str.title()#Changes all the variables into the same format, with the first letter being uppercase and others being lowercase.\n",
        "df[\"Month\"].unique()#To see whether the variables changed or not.\n"
      ],
      "metadata": {
        "colab": {
          "base_uri": "https://localhost:8080/"
        },
        "id": "KiB0OBkc49HE",
        "outputId": "f339a568-ab11-42d2-8354-01aeea62cf72"
      },
      "execution_count": null,
      "outputs": [
        {
          "output_type": "execute_result",
          "data": {
            "text/plain": [
              "array(['May', 'Jun', 'Nov', 'Jul', 'Aug', 'Feb', 'Jan', 'Apr', 'Sep',\n",
              "       'Mar', 'Oct'], dtype=object)"
            ]
          },
          "metadata": {},
          "execution_count": 46
        }
      ]
    },
    {
      "cell_type": "code",
      "source": [
        "df[\"Duration\"].mean().astype(int)#In the next step, we want to change the null variables to the mean of the duration column to find its mean."
      ],
      "metadata": {
        "colab": {
          "base_uri": "https://localhost:8080/"
        },
        "id": "pmiG9AqfJPON",
        "outputId": "16ff09cd-a00b-4cb9-ce09-d1619ceacdee"
      },
      "execution_count": null,
      "outputs": [
        {
          "output_type": "execute_result",
          "data": {
            "text/plain": [
              "203"
            ]
          },
          "metadata": {},
          "execution_count": 47
        }
      ]
    },
    {
      "cell_type": "code",
      "source": [
        "df[\"Duration\"]= df[\"Duration\"].fillna(203)#Changes the na values to the mean of duration, which is 203\n",
        "df[\"Duration\"]=df[\"Duration\"].astype(int)#To change the Duration from float to int due to being a numeric variable."
      ],
      "metadata": {
        "id": "hrISI83y49w5"
      },
      "execution_count": null,
      "outputs": []
    },
    {
      "cell_type": "code",
      "source": [
        "df[\"Ncampaign\"]=df[\"Ncampaign\"].replace(\"2,0\",\"2\")\n",
        "df[\"Ncampaign\"]=df[\"Ncampaign\"].replace(\"3,0\",\"3\")\n",
        "df[\"Ncampaign\"]=df[\"Ncampaign\"].replace(\"1,0\",\"1\")\n",
        "#Three of the above fixes the wrongly typed variables to ensure uniformity.\n",
        "df[\"Ncampaign\"]=df[\"Ncampaign\"].astype(int)#To change the Ncampagin from object to int due to being a numeric variable."
      ],
      "metadata": {
        "id": "u4e4KcXm5Cu0"
      },
      "execution_count": null,
      "outputs": []
    },
    {
      "cell_type": "code",
      "source": [
        "df[\"Poutcome\"]= df[\"Poutcome\"].str.title()#Changes all the variables into the same format, with the first letter being uppercase and others being lowercase.\n",
        "df['Poutcome'].unique()#To see whether the variables changed or not."
      ],
      "metadata": {
        "colab": {
          "base_uri": "https://localhost:8080/"
        },
        "id": "ifd3EKQx5FSK",
        "outputId": "80bd3dca-9c81-4779-cfb5-3ead3bc791d9"
      },
      "execution_count": null,
      "outputs": [
        {
          "output_type": "execute_result",
          "data": {
            "text/plain": [
              "array(['Success', 'Unknown', 'Failure'], dtype=object)"
            ]
          },
          "metadata": {},
          "execution_count": 50
        }
      ]
    },
    {
      "cell_type": "code",
      "source": [
        "df[\"Deposit\"]=df[\"Deposit\"].str.title()#Changes all the variables into the same format, with the first letter being uppercase and others being lowercase.\n",
        "df['Deposit'].unique()#To see whether the variables changed or not."
      ],
      "metadata": {
        "colab": {
          "base_uri": "https://localhost:8080/"
        },
        "id": "ruCXNxvC5Hd7",
        "outputId": "d54d9d6b-3158-46ec-ddb2-d9ca1c7e7a90"
      },
      "execution_count": null,
      "outputs": [
        {
          "output_type": "execute_result",
          "data": {
            "text/plain": [
              "array(['Yes', 'No'], dtype=object)"
            ]
          },
          "metadata": {},
          "execution_count": 51
        }
      ]
    },
    {
      "cell_type": "code",
      "source": [
        "df.info()#To double-check whether there is a problem in the data and to ensure whether the changes occurred."
      ],
      "metadata": {
        "colab": {
          "base_uri": "https://localhost:8080/"
        },
        "id": "_MUjkpel5KqG",
        "outputId": "9599a0d0-c350-43da-ac20-262cd75d4254"
      },
      "execution_count": null,
      "outputs": [
        {
          "output_type": "stream",
          "name": "stdout",
          "text": [
            "<class 'pandas.core.frame.DataFrame'>\n",
            "Int64Index: 108 entries, 1 to 113\n",
            "Data columns (total 19 columns):\n",
            " #   Column           Non-Null Count  Dtype \n",
            "---  ------           --------------  ----- \n",
            " 0   Customers Age    108 non-null    int64 \n",
            " 1   Customers Job    108 non-null    object\n",
            " 2   Marital Status   108 non-null    object\n",
            " 3   Education Level  108 non-null    object\n",
            " 4   Credit Card      108 non-null    object\n",
            " 5   Balance          108 non-null    int64 \n",
            " 6   House Loan       108 non-null    object\n",
            " 7   Personal Loan    108 non-null    object\n",
            " 8   Contact Type     108 non-null    object\n",
            " 9   Day              108 non-null    int64 \n",
            " 10  Month            108 non-null    object\n",
            " 11  Duration         108 non-null    int64 \n",
            " 12  Ncampaign        108 non-null    int64 \n",
            " 13  Pdays            108 non-null    int64 \n",
            " 14  Nprevious        108 non-null    int64 \n",
            " 15  Poutcome         108 non-null    object\n",
            " 16  Deposit          108 non-null    object\n",
            " 17  Income           108 non-null    int64 \n",
            " 18  Loan_amount      108 non-null    int64 \n",
            "dtypes: int64(9), object(10)\n",
            "memory usage: 20.9+ KB\n"
          ]
        }
      ]
    },
    {
      "cell_type": "code",
      "source": [
        "df[\"Day\"] = df[\"Day\"].astype(str)#In the next step, we are going to merge the Day column with the Month column due to the Day column being meaningless on its own(it does not provide meaningful information)."
      ],
      "metadata": {
        "id": "QqJqZbgx63Fj"
      },
      "execution_count": null,
      "outputs": []
    },
    {
      "cell_type": "code",
      "source": [
        "df[\"Date\"] = df[\"Month\"] + \"-\" + df[\"Day\"]#Merges the Day column with the Month column and creates a new column that contains both information."
      ],
      "metadata": {
        "id": "8RGM8OEQ6XhJ"
      },
      "execution_count": null,
      "outputs": []
    },
    {
      "cell_type": "code",
      "source": [
        "df.pop(\"Day\")#With the new date column, we do not need the day column, so we are deleting it."
      ],
      "metadata": {
        "colab": {
          "base_uri": "https://localhost:8080/"
        },
        "id": "0gaWAaRl7Tx1",
        "outputId": "3bb61917-d266-4096-d82a-b47cd7961ddb"
      },
      "execution_count": null,
      "outputs": [
        {
          "output_type": "execute_result",
          "data": {
            "text/plain": [
              "ID\n",
              "1      12\n",
              "2       8\n",
              "3      16\n",
              "4      30\n",
              "5      14\n",
              "       ..\n",
              "109     6\n",
              "110    29\n",
              "111    14\n",
              "112     6\n",
              "113    13\n",
              "Name: Day, Length: 108, dtype: object"
            ]
          },
          "metadata": {},
          "execution_count": 55
        }
      ]
    },
    {
      "cell_type": "code",
      "source": [
        "df.pop(\"Credit Card\")#Due to all of the data is no we deleted it(it does not provide any meaningful information)"
      ],
      "metadata": {
        "colab": {
          "base_uri": "https://localhost:8080/"
        },
        "id": "u2BFOEXJ8j1O",
        "outputId": "4fd90589-01d7-4b63-d02a-59401c207926"
      },
      "execution_count": null,
      "outputs": [
        {
          "output_type": "execute_result",
          "data": {
            "text/plain": [
              "ID\n",
              "1      No\n",
              "2      No\n",
              "3      No\n",
              "4      No\n",
              "5      No\n",
              "       ..\n",
              "109    No\n",
              "110    No\n",
              "111    No\n",
              "112    No\n",
              "113    No\n",
              "Name: Credit Card, Length: 108, dtype: object"
            ]
          },
          "metadata": {},
          "execution_count": 56
        }
      ]
    },
    {
      "cell_type": "code",
      "source": [
        "df.info()#To see the final version of the dataframe."
      ],
      "metadata": {
        "colab": {
          "base_uri": "https://localhost:8080/"
        },
        "id": "OrZSMabc6_Zv",
        "outputId": "7fa83215-5ef3-4158-ea38-643e52d59b93"
      },
      "execution_count": null,
      "outputs": [
        {
          "output_type": "stream",
          "name": "stdout",
          "text": [
            "<class 'pandas.core.frame.DataFrame'>\n",
            "Int64Index: 108 entries, 1 to 113\n",
            "Data columns (total 18 columns):\n",
            " #   Column           Non-Null Count  Dtype \n",
            "---  ------           --------------  ----- \n",
            " 0   Customers Age    108 non-null    int64 \n",
            " 1   Customers Job    108 non-null    object\n",
            " 2   Marital Status   108 non-null    object\n",
            " 3   Education Level  108 non-null    object\n",
            " 4   Balance          108 non-null    int64 \n",
            " 5   House Loan       108 non-null    object\n",
            " 6   Personal Loan    108 non-null    object\n",
            " 7   Contact Type     108 non-null    object\n",
            " 8   Month            108 non-null    object\n",
            " 9   Duration         108 non-null    int64 \n",
            " 10  Ncampaign        108 non-null    int64 \n",
            " 11  Pdays            108 non-null    int64 \n",
            " 12  Nprevious        108 non-null    int64 \n",
            " 13  Poutcome         108 non-null    object\n",
            " 14  Deposit          108 non-null    object\n",
            " 15  Income           108 non-null    int64 \n",
            " 16  Loan_amount      108 non-null    int64 \n",
            " 17  Date             108 non-null    object\n",
            "dtypes: int64(8), object(10)\n",
            "memory usage: 20.1+ KB\n"
          ]
        }
      ]
    },
    {
      "cell_type": "code",
      "source": [
        "((df['Balance'] - df['Balance'].mean()) / df['Balance'].std()).sort_values()#To detect the outliers by their z-scores(code calculates the z-score of all the variables then prints it by sorted from lowest to biggest)."
      ],
      "metadata": {
        "colab": {
          "base_uri": "https://localhost:8080/"
        },
        "id": "nacgR0SX-OkR",
        "outputId": "60afef4f-34d9-4cd5-eff8-8f779c512cf6"
      },
      "execution_count": null,
      "outputs": [
        {
          "output_type": "execute_result",
          "data": {
            "text/plain": [
              "ID\n",
              "58    -1.441717\n",
              "103   -1.441717\n",
              "86    -1.346239\n",
              "109   -1.335631\n",
              "56    -1.335631\n",
              "         ...   \n",
              "14     1.664499\n",
              "13     1.726030\n",
              "33     1.726030\n",
              "93     1.813021\n",
              "92     3.257921\n",
              "Name: Balance, Length: 108, dtype: float64"
            ]
          },
          "metadata": {},
          "execution_count": 58
        }
      ]
    },
    {
      "cell_type": "code",
      "source": [
        "df['Balance'].mean().astype(int)#To find the mean of the column Balance, we can change the outlier to the mean of Balance."
      ],
      "metadata": {
        "colab": {
          "base_uri": "https://localhost:8080/"
        },
        "id": "LpmY7Zsh_52-",
        "outputId": "77bd570a-a299-4089-9f48-7db160ad279a"
      },
      "execution_count": null,
      "outputs": [
        {
          "output_type": "execute_result",
          "data": {
            "text/plain": [
              "490"
            ]
          },
          "metadata": {},
          "execution_count": 59
        }
      ]
    },
    {
      "cell_type": "code",
      "source": [
        "df.loc[92, \"Balance\"] = 490#Changes the outlier to mean of Balance (3,25 considered as outlier due to z-score being bigger than 3)"
      ],
      "metadata": {
        "id": "G9fCuETh_sn9"
      },
      "execution_count": null,
      "outputs": []
    },
    {
      "cell_type": "code",
      "source": [
        "((df['Loan_amount'] - df['Loan_amount'].mean()) / df['Loan_amount'].std()).sort_values()#To detect the outliers by their z-scores(code calculates the z-score of all the variables then prints it by sorted from lowest to biggest)."
      ],
      "metadata": {
        "colab": {
          "base_uri": "https://localhost:8080/"
        },
        "id": "oAxzR8zYA6IT",
        "outputId": "7130b658-2f86-4515-f0e5-61c867684d2b"
      },
      "execution_count": null,
      "outputs": [
        {
          "output_type": "execute_result",
          "data": {
            "text/plain": [
              "ID\n",
              "53    -1.689051\n",
              "106   -1.689051\n",
              "46    -1.511373\n",
              "16    -1.333695\n",
              "94    -1.333695\n",
              "         ...   \n",
              "52     1.686826\n",
              "112    1.864504\n",
              "69     1.864504\n",
              "42     2.219859\n",
              "92     2.219859\n",
              "Name: Loan_amount, Length: 108, dtype: float64"
            ]
          },
          "metadata": {},
          "execution_count": 61
        }
      ]
    },
    {
      "cell_type": "code",
      "source": [
        "((df['Income'] - df['Income'].mean()) / df['Income'].std()).sort_values()#To detect the outliers by their z-scores(code calculates the z-score of all the variables then prints it by sorted from lowest to biggest)."
      ],
      "metadata": {
        "colab": {
          "base_uri": "https://localhost:8080/"
        },
        "id": "WAnzvF_UBEHc",
        "outputId": "d793f246-84e6-41c0-b9e4-a5dc90ca4287"
      },
      "execution_count": null,
      "outputs": [
        {
          "output_type": "execute_result",
          "data": {
            "text/plain": [
              "ID\n",
              "106   -1.851864\n",
              "53    -1.851864\n",
              "16    -1.851864\n",
              "46    -1.725380\n",
              "2     -1.535653\n",
              "         ...   \n",
              "78     1.626453\n",
              "112    1.942663\n",
              "92     1.942663\n",
              "69     1.942663\n",
              "42     1.942663\n",
              "Name: Income, Length: 108, dtype: float64"
            ]
          },
          "metadata": {},
          "execution_count": 62
        }
      ]
    },
    {
      "cell_type": "code",
      "source": [
        "((df['Duration'] - df['Duration'].mean()) / df['Duration'].std()).sort_values()#To detect the outliers by their z-scores(code calculates the z-score of all the variables then prints it by sorted from lowest to biggest)."
      ],
      "metadata": {
        "colab": {
          "base_uri": "https://localhost:8080/"
        },
        "id": "h3pxvxgoBP8A",
        "outputId": "d03fe937-8ddd-4f20-e131-b292dd990971"
      },
      "execution_count": null,
      "outputs": [
        {
          "output_type": "execute_result",
          "data": {
            "text/plain": [
              "ID\n",
              "16   -1.768986\n",
              "83   -1.638878\n",
              "73   -1.560814\n",
              "91   -1.521781\n",
              "28   -1.508770\n",
              "        ...   \n",
              "9     1.795972\n",
              "29    1.795972\n",
              "1     2.095220\n",
              "77    2.407479\n",
              "49    2.498555\n",
              "Name: Duration, Length: 108, dtype: float64"
            ]
          },
          "metadata": {},
          "execution_count": 63
        }
      ]
    },
    {
      "cell_type": "code",
      "source": [
        "df.to_excel(\"Term_Deposit_Cleaned.xlsx\", index=True)#To save the last version of the data frame as an Excel file so we can give it to those who will make the visualization"
      ],
      "metadata": {
        "id": "4w7aO9VpC8e4"
      },
      "execution_count": null,
      "outputs": []
    }
  ],
  "metadata": {
    "colab": {
      "provenance": []
    },
    "kernelspec": {
      "display_name": "Python 3",
      "name": "python3"
    },
    "language_info": {
      "name": "python"
    }
  },
  "nbformat": 4,
  "nbformat_minor": 0
}